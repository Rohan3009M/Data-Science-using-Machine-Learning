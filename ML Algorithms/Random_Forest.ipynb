{
  "nbformat": 4,
  "nbformat_minor": 0,
  "metadata": {
    "colab": {
      "provenance": []
    },
    "kernelspec": {
      "name": "python3",
      "display_name": "Python 3"
    },
    "language_info": {
      "name": "python"
    }
  },
  "cells": [
    {
      "cell_type": "markdown",
      "source": [
        "# **Random Forest**\n",
        "In this code I have used Random Forest Model to Predict the Housing Price"
      ],
      "metadata": {
        "id": "cLUfXWUV09qd"
      }
    },
    {
      "cell_type": "code",
      "execution_count": 25,
      "metadata": {
        "id": "Iwc1bReP0yxe"
      },
      "outputs": [],
      "source": [
        "#Importing Required Libraries\n",
        "import pandas as pd\n",
        "import numpy as np\n",
        "\n",
        "import statsmodels.api as sm\n",
        "from statsmodels.sandbox.regression.predstd import wls_prediction_std\n",
        "from statsmodels.stats.outliers_influence import variance_inflation_factor\n",
        "\n",
        "from sklearn.model_selection import train_test_split\n",
        "from sklearn.model_selection import GridSearchCV\n",
        "from sklearn import metrics\n",
        "from sklearn import tree\n",
        "from sklearn.metrics import r2_score, mean_squared_error, accuracy_score\n",
        "from sklearn.metrics import confusion_matrix, recall_score, classification_report\n",
        "from sklearn.ensemble import RandomForestRegressor\n",
        "from sklearn.preprocessing import OrdinalEncoder\n",
        "\n",
        "import matplotlib.pyplot as plt\n",
        "import seaborn as sns\n",
        "%matplotlib inline\n",
        "\n",
        "np.set_printoptions(precision=4, linewidth=100)\n",
        "\n",
        "import warnings\n",
        "warnings.filterwarnings('ignore')"
      ]
    },
    {
      "cell_type": "code",
      "source": [
        "#Importing the Dataset\n",
        "df = pd.read_csv(\"/content/Logan_housing.csv\")\n",
        "df.head()"
      ],
      "metadata": {
        "colab": {
          "base_uri": "https://localhost:8080/",
          "height": 302
        },
        "id": "fiByQ0oD1eLi",
        "outputId": "0f5c9da1-3335-4360-fafb-9aef0d9a4abb"
      },
      "execution_count": 2,
      "outputs": [
        {
          "output_type": "execute_result",
          "data": {
            "text/plain": [
              "   Sold Price  DOM  Garage Capacity  HOA Fee Irregular Shape Quadrant  \\\n",
              "0      176000    5                2        0              No       NW   \n",
              "1      225000    6                2        0              No       NW   \n",
              "2      274900   14                2        0              No       NW   \n",
              "3      175000   16                1        0              No       NW   \n",
              "4      179000   29                0        0              No       NW   \n",
              "\n",
              "  School District              Sold Terms  Total Bedrooms  Total Bathrooms  \\\n",
              "0           Cache                     FHA               3                1   \n",
              "1           Cache            Conventional               4                2   \n",
              "2           Cache            Conventional               3                1   \n",
              "3           Cache  USDA Rural Development               4                1   \n",
              "4           Cache                    Cash               4                2   \n",
              "\n",
              "   Total Square Feet  Year Built    Zip  year_sold  month_sold  \\\n",
              "0               1031        1974  84335       2018           9   \n",
              "1               2091        1995  84335       2018           7   \n",
              "2               2016        1980  84335       2018          11   \n",
              "3               1920        1978  84335       2018           6   \n",
              "4               1329        1976  84335       2018           9   \n",
              "\n",
              "   built_after_2000  \n",
              "0                 0  \n",
              "1                 0  \n",
              "2                 0  \n",
              "3                 0  \n",
              "4                 0  "
            ],
            "text/html": [
              "\n",
              "  <div id=\"df-41538131-6b00-44a2-a6b9-08d9277710e7\">\n",
              "    <div class=\"colab-df-container\">\n",
              "      <div>\n",
              "<style scoped>\n",
              "    .dataframe tbody tr th:only-of-type {\n",
              "        vertical-align: middle;\n",
              "    }\n",
              "\n",
              "    .dataframe tbody tr th {\n",
              "        vertical-align: top;\n",
              "    }\n",
              "\n",
              "    .dataframe thead th {\n",
              "        text-align: right;\n",
              "    }\n",
              "</style>\n",
              "<table border=\"1\" class=\"dataframe\">\n",
              "  <thead>\n",
              "    <tr style=\"text-align: right;\">\n",
              "      <th></th>\n",
              "      <th>Sold Price</th>\n",
              "      <th>DOM</th>\n",
              "      <th>Garage Capacity</th>\n",
              "      <th>HOA Fee</th>\n",
              "      <th>Irregular Shape</th>\n",
              "      <th>Quadrant</th>\n",
              "      <th>School District</th>\n",
              "      <th>Sold Terms</th>\n",
              "      <th>Total Bedrooms</th>\n",
              "      <th>Total Bathrooms</th>\n",
              "      <th>Total Square Feet</th>\n",
              "      <th>Year Built</th>\n",
              "      <th>Zip</th>\n",
              "      <th>year_sold</th>\n",
              "      <th>month_sold</th>\n",
              "      <th>built_after_2000</th>\n",
              "    </tr>\n",
              "  </thead>\n",
              "  <tbody>\n",
              "    <tr>\n",
              "      <th>0</th>\n",
              "      <td>176000</td>\n",
              "      <td>5</td>\n",
              "      <td>2</td>\n",
              "      <td>0</td>\n",
              "      <td>No</td>\n",
              "      <td>NW</td>\n",
              "      <td>Cache</td>\n",
              "      <td>FHA</td>\n",
              "      <td>3</td>\n",
              "      <td>1</td>\n",
              "      <td>1031</td>\n",
              "      <td>1974</td>\n",
              "      <td>84335</td>\n",
              "      <td>2018</td>\n",
              "      <td>9</td>\n",
              "      <td>0</td>\n",
              "    </tr>\n",
              "    <tr>\n",
              "      <th>1</th>\n",
              "      <td>225000</td>\n",
              "      <td>6</td>\n",
              "      <td>2</td>\n",
              "      <td>0</td>\n",
              "      <td>No</td>\n",
              "      <td>NW</td>\n",
              "      <td>Cache</td>\n",
              "      <td>Conventional</td>\n",
              "      <td>4</td>\n",
              "      <td>2</td>\n",
              "      <td>2091</td>\n",
              "      <td>1995</td>\n",
              "      <td>84335</td>\n",
              "      <td>2018</td>\n",
              "      <td>7</td>\n",
              "      <td>0</td>\n",
              "    </tr>\n",
              "    <tr>\n",
              "      <th>2</th>\n",
              "      <td>274900</td>\n",
              "      <td>14</td>\n",
              "      <td>2</td>\n",
              "      <td>0</td>\n",
              "      <td>No</td>\n",
              "      <td>NW</td>\n",
              "      <td>Cache</td>\n",
              "      <td>Conventional</td>\n",
              "      <td>3</td>\n",
              "      <td>1</td>\n",
              "      <td>2016</td>\n",
              "      <td>1980</td>\n",
              "      <td>84335</td>\n",
              "      <td>2018</td>\n",
              "      <td>11</td>\n",
              "      <td>0</td>\n",
              "    </tr>\n",
              "    <tr>\n",
              "      <th>3</th>\n",
              "      <td>175000</td>\n",
              "      <td>16</td>\n",
              "      <td>1</td>\n",
              "      <td>0</td>\n",
              "      <td>No</td>\n",
              "      <td>NW</td>\n",
              "      <td>Cache</td>\n",
              "      <td>USDA Rural Development</td>\n",
              "      <td>4</td>\n",
              "      <td>1</td>\n",
              "      <td>1920</td>\n",
              "      <td>1978</td>\n",
              "      <td>84335</td>\n",
              "      <td>2018</td>\n",
              "      <td>6</td>\n",
              "      <td>0</td>\n",
              "    </tr>\n",
              "    <tr>\n",
              "      <th>4</th>\n",
              "      <td>179000</td>\n",
              "      <td>29</td>\n",
              "      <td>0</td>\n",
              "      <td>0</td>\n",
              "      <td>No</td>\n",
              "      <td>NW</td>\n",
              "      <td>Cache</td>\n",
              "      <td>Cash</td>\n",
              "      <td>4</td>\n",
              "      <td>2</td>\n",
              "      <td>1329</td>\n",
              "      <td>1976</td>\n",
              "      <td>84335</td>\n",
              "      <td>2018</td>\n",
              "      <td>9</td>\n",
              "      <td>0</td>\n",
              "    </tr>\n",
              "  </tbody>\n",
              "</table>\n",
              "</div>\n",
              "      <button class=\"colab-df-convert\" onclick=\"convertToInteractive('df-41538131-6b00-44a2-a6b9-08d9277710e7')\"\n",
              "              title=\"Convert this dataframe to an interactive table.\"\n",
              "              style=\"display:none;\">\n",
              "        \n",
              "  <svg xmlns=\"http://www.w3.org/2000/svg\" height=\"24px\"viewBox=\"0 0 24 24\"\n",
              "       width=\"24px\">\n",
              "    <path d=\"M0 0h24v24H0V0z\" fill=\"none\"/>\n",
              "    <path d=\"M18.56 5.44l.94 2.06.94-2.06 2.06-.94-2.06-.94-.94-2.06-.94 2.06-2.06.94zm-11 1L8.5 8.5l.94-2.06 2.06-.94-2.06-.94L8.5 2.5l-.94 2.06-2.06.94zm10 10l.94 2.06.94-2.06 2.06-.94-2.06-.94-.94-2.06-.94 2.06-2.06.94z\"/><path d=\"M17.41 7.96l-1.37-1.37c-.4-.4-.92-.59-1.43-.59-.52 0-1.04.2-1.43.59L10.3 9.45l-7.72 7.72c-.78.78-.78 2.05 0 2.83L4 21.41c.39.39.9.59 1.41.59.51 0 1.02-.2 1.41-.59l7.78-7.78 2.81-2.81c.8-.78.8-2.07 0-2.86zM5.41 20L4 18.59l7.72-7.72 1.47 1.35L5.41 20z\"/>\n",
              "  </svg>\n",
              "      </button>\n",
              "      \n",
              "  <style>\n",
              "    .colab-df-container {\n",
              "      display:flex;\n",
              "      flex-wrap:wrap;\n",
              "      gap: 12px;\n",
              "    }\n",
              "\n",
              "    .colab-df-convert {\n",
              "      background-color: #E8F0FE;\n",
              "      border: none;\n",
              "      border-radius: 50%;\n",
              "      cursor: pointer;\n",
              "      display: none;\n",
              "      fill: #1967D2;\n",
              "      height: 32px;\n",
              "      padding: 0 0 0 0;\n",
              "      width: 32px;\n",
              "    }\n",
              "\n",
              "    .colab-df-convert:hover {\n",
              "      background-color: #E2EBFA;\n",
              "      box-shadow: 0px 1px 2px rgba(60, 64, 67, 0.3), 0px 1px 3px 1px rgba(60, 64, 67, 0.15);\n",
              "      fill: #174EA6;\n",
              "    }\n",
              "\n",
              "    [theme=dark] .colab-df-convert {\n",
              "      background-color: #3B4455;\n",
              "      fill: #D2E3FC;\n",
              "    }\n",
              "\n",
              "    [theme=dark] .colab-df-convert:hover {\n",
              "      background-color: #434B5C;\n",
              "      box-shadow: 0px 1px 3px 1px rgba(0, 0, 0, 0.15);\n",
              "      filter: drop-shadow(0px 1px 2px rgba(0, 0, 0, 0.3));\n",
              "      fill: #FFFFFF;\n",
              "    }\n",
              "  </style>\n",
              "\n",
              "      <script>\n",
              "        const buttonEl =\n",
              "          document.querySelector('#df-41538131-6b00-44a2-a6b9-08d9277710e7 button.colab-df-convert');\n",
              "        buttonEl.style.display =\n",
              "          google.colab.kernel.accessAllowed ? 'block' : 'none';\n",
              "\n",
              "        async function convertToInteractive(key) {\n",
              "          const element = document.querySelector('#df-41538131-6b00-44a2-a6b9-08d9277710e7');\n",
              "          const dataTable =\n",
              "            await google.colab.kernel.invokeFunction('convertToInteractive',\n",
              "                                                     [key], {});\n",
              "          if (!dataTable) return;\n",
              "\n",
              "          const docLinkHtml = 'Like what you see? Visit the ' +\n",
              "            '<a target=\"_blank\" href=https://colab.research.google.com/notebooks/data_table.ipynb>data table notebook</a>'\n",
              "            + ' to learn more about interactive tables.';\n",
              "          element.innerHTML = '';\n",
              "          dataTable['output_type'] = 'display_data';\n",
              "          await google.colab.output.renderOutput(dataTable, element);\n",
              "          const docLink = document.createElement('div');\n",
              "          docLink.innerHTML = docLinkHtml;\n",
              "          element.appendChild(docLink);\n",
              "        }\n",
              "      </script>\n",
              "    </div>\n",
              "  </div>\n",
              "  "
            ]
          },
          "metadata": {},
          "execution_count": 2
        }
      ]
    },
    {
      "cell_type": "code",
      "source": [
        "df.info()"
      ],
      "metadata": {
        "colab": {
          "base_uri": "https://localhost:8080/"
        },
        "id": "h6Id9BVm1u7K",
        "outputId": "f5b003cc-a482-40da-8a51-005f437d6401"
      },
      "execution_count": 3,
      "outputs": [
        {
          "output_type": "stream",
          "name": "stdout",
          "text": [
            "<class 'pandas.core.frame.DataFrame'>\n",
            "RangeIndex: 4110 entries, 0 to 4109\n",
            "Data columns (total 16 columns):\n",
            " #   Column             Non-Null Count  Dtype \n",
            "---  ------             --------------  ----- \n",
            " 0   Sold Price         4110 non-null   int64 \n",
            " 1   DOM                4110 non-null   int64 \n",
            " 2   Garage Capacity    4110 non-null   int64 \n",
            " 3   HOA Fee            4110 non-null   int64 \n",
            " 4   Irregular Shape    4110 non-null   object\n",
            " 5   Quadrant           4110 non-null   object\n",
            " 6   School District    4110 non-null   object\n",
            " 7   Sold Terms         4110 non-null   object\n",
            " 8   Total Bedrooms     4110 non-null   int64 \n",
            " 9   Total Bathrooms    4110 non-null   int64 \n",
            " 10  Total Square Feet  4110 non-null   int64 \n",
            " 11  Year Built         4110 non-null   int64 \n",
            " 12  Zip                4110 non-null   int64 \n",
            " 13  year_sold          4110 non-null   int64 \n",
            " 14  month_sold         4110 non-null   int64 \n",
            " 15  built_after_2000   4110 non-null   int64 \n",
            "dtypes: int64(12), object(4)\n",
            "memory usage: 513.9+ KB\n"
          ]
        }
      ]
    },
    {
      "cell_type": "code",
      "source": [
        "#Checking for null values\n",
        "df.isnull().sum()/len(df)"
      ],
      "metadata": {
        "colab": {
          "base_uri": "https://localhost:8080/"
        },
        "id": "tYBEuA1F16XQ",
        "outputId": "a3e38e38-e7ce-49e1-c25a-92d5dc6f2c0c"
      },
      "execution_count": 4,
      "outputs": [
        {
          "output_type": "execute_result",
          "data": {
            "text/plain": [
              "Sold Price           0.0\n",
              "DOM                  0.0\n",
              "Garage Capacity      0.0\n",
              "HOA Fee              0.0\n",
              "Irregular Shape      0.0\n",
              "Quadrant             0.0\n",
              "School District      0.0\n",
              "Sold Terms           0.0\n",
              "Total Bedrooms       0.0\n",
              "Total Bathrooms      0.0\n",
              "Total Square Feet    0.0\n",
              "Year Built           0.0\n",
              "Zip                  0.0\n",
              "year_sold            0.0\n",
              "month_sold           0.0\n",
              "built_after_2000     0.0\n",
              "dtype: float64"
            ]
          },
          "metadata": {},
          "execution_count": 4
        }
      ]
    },
    {
      "cell_type": "code",
      "source": [
        "sum(df.duplicated())"
      ],
      "metadata": {
        "colab": {
          "base_uri": "https://localhost:8080/"
        },
        "id": "I3nd5Y1C2I3z",
        "outputId": "e3e759e9-e836-4a67-c20a-e71148c9623e"
      },
      "execution_count": 5,
      "outputs": [
        {
          "output_type": "execute_result",
          "data": {
            "text/plain": [
              "2"
            ]
          },
          "metadata": {},
          "execution_count": 5
        }
      ]
    },
    {
      "cell_type": "code",
      "source": [
        "# dropping the duplicates:\n",
        "df.drop_duplicates(inplace = True)"
      ],
      "metadata": {
        "id": "TD5gIsqR2N2z"
      },
      "execution_count": 6,
      "outputs": []
    },
    {
      "cell_type": "code",
      "source": [
        "df.nunique()"
      ],
      "metadata": {
        "colab": {
          "base_uri": "https://localhost:8080/"
        },
        "id": "Ejw6RMvE2Qpr",
        "outputId": "68e93a97-3c37-4d96-c1b9-007ca88efcec"
      },
      "execution_count": 7,
      "outputs": [
        {
          "output_type": "execute_result",
          "data": {
            "text/plain": [
              "Sold Price           1217\n",
              "DOM                   248\n",
              "Garage Capacity        14\n",
              "HOA Fee                96\n",
              "Irregular Shape         2\n",
              "Quadrant                4\n",
              "School District         2\n",
              "Sold Terms              6\n",
              "Total Bedrooms          9\n",
              "Total Bathrooms         7\n",
              "Total Square Feet    2009\n",
              "Year Built            136\n",
              "Zip                    16\n",
              "year_sold               3\n",
              "month_sold             12\n",
              "built_after_2000        2\n",
              "dtype: int64"
            ]
          },
          "metadata": {},
          "execution_count": 7
        }
      ]
    },
    {
      "cell_type": "code",
      "source": [
        "#Encoding ordinal categorical features as an integer array\n",
        "ordinal_categorical = ['Irregular Shape', 'Quadrant', 'School District', 'Sold Terms', 'Zip']\n",
        "enc = OrdinalEncoder()\n",
        "df[ordinal_categorical]= enc.fit_transform(df[ordinal_categorical])\n",
        "df"
      ],
      "metadata": {
        "colab": {
          "base_uri": "https://localhost:8080/",
          "height": 502
        },
        "id": "ZZBVW9w42S92",
        "outputId": "39fc590f-e124-4df6-8972-6fb226e7132d"
      },
      "execution_count": 11,
      "outputs": [
        {
          "output_type": "execute_result",
          "data": {
            "text/plain": [
              "      Sold Price  DOM  Garage Capacity  HOA Fee  Irregular Shape  Quadrant  \\\n",
              "0         176000    5                2        0              0.0       1.0   \n",
              "1         225000    6                2        0              0.0       1.0   \n",
              "2         274900   14                2        0              0.0       1.0   \n",
              "3         175000   16                1        0              0.0       1.0   \n",
              "4         179000   29                0        0              0.0       1.0   \n",
              "...          ...  ...              ...      ...              ...       ...   \n",
              "4105     1225000  712                3        0              0.0       3.0   \n",
              "4106      272000    6                0        0              1.0       3.0   \n",
              "4107      298000   40                0        0              0.0       3.0   \n",
              "4108      215000   49                0        0              0.0       3.0   \n",
              "4109      450000   94                3        0              0.0       3.0   \n",
              "\n",
              "      School District  Sold Terms  Total Bedrooms  Total Bathrooms  \\\n",
              "0                 0.0         2.0               3                1   \n",
              "1                 0.0         1.0               4                2   \n",
              "2                 0.0         1.0               3                1   \n",
              "3                 0.0         4.0               4                1   \n",
              "4                 0.0         0.0               4                2   \n",
              "...               ...         ...             ...              ...   \n",
              "4105              0.0         1.0               6                5   \n",
              "4106              0.0         2.0               5                2   \n",
              "4107              0.0         1.0               4                2   \n",
              "4108              0.0         1.0               4                2   \n",
              "4109              0.0         5.0               4                3   \n",
              "\n",
              "      Total Square Feet  Year Built   Zip  year_sold  month_sold  \\\n",
              "0                  1031        1974  12.0       2018           9   \n",
              "1                  2091        1995  12.0       2018           7   \n",
              "2                  2016        1980  12.0       2018          11   \n",
              "3                  1920        1978  12.0       2018           6   \n",
              "4                  1329        1976  12.0       2018           9   \n",
              "...                 ...         ...   ...        ...         ...   \n",
              "4105               6546        2009  14.0       2020          11   \n",
              "4106               2250        1961  14.0       2020           6   \n",
              "4107               2260        1986  14.0       2019          11   \n",
              "4108               2250        1961  14.0       2019           8   \n",
              "4109               3136        1994  14.0       2020          11   \n",
              "\n",
              "      built_after_2000  \n",
              "0                    0  \n",
              "1                    0  \n",
              "2                    0  \n",
              "3                    0  \n",
              "4                    0  \n",
              "...                ...  \n",
              "4105                 1  \n",
              "4106                 0  \n",
              "4107                 0  \n",
              "4108                 0  \n",
              "4109                 0  \n",
              "\n",
              "[4108 rows x 16 columns]"
            ],
            "text/html": [
              "\n",
              "  <div id=\"df-bf40d164-cf28-422a-870d-bf5a95f908f8\">\n",
              "    <div class=\"colab-df-container\">\n",
              "      <div>\n",
              "<style scoped>\n",
              "    .dataframe tbody tr th:only-of-type {\n",
              "        vertical-align: middle;\n",
              "    }\n",
              "\n",
              "    .dataframe tbody tr th {\n",
              "        vertical-align: top;\n",
              "    }\n",
              "\n",
              "    .dataframe thead th {\n",
              "        text-align: right;\n",
              "    }\n",
              "</style>\n",
              "<table border=\"1\" class=\"dataframe\">\n",
              "  <thead>\n",
              "    <tr style=\"text-align: right;\">\n",
              "      <th></th>\n",
              "      <th>Sold Price</th>\n",
              "      <th>DOM</th>\n",
              "      <th>Garage Capacity</th>\n",
              "      <th>HOA Fee</th>\n",
              "      <th>Irregular Shape</th>\n",
              "      <th>Quadrant</th>\n",
              "      <th>School District</th>\n",
              "      <th>Sold Terms</th>\n",
              "      <th>Total Bedrooms</th>\n",
              "      <th>Total Bathrooms</th>\n",
              "      <th>Total Square Feet</th>\n",
              "      <th>Year Built</th>\n",
              "      <th>Zip</th>\n",
              "      <th>year_sold</th>\n",
              "      <th>month_sold</th>\n",
              "      <th>built_after_2000</th>\n",
              "    </tr>\n",
              "  </thead>\n",
              "  <tbody>\n",
              "    <tr>\n",
              "      <th>0</th>\n",
              "      <td>176000</td>\n",
              "      <td>5</td>\n",
              "      <td>2</td>\n",
              "      <td>0</td>\n",
              "      <td>0.0</td>\n",
              "      <td>1.0</td>\n",
              "      <td>0.0</td>\n",
              "      <td>2.0</td>\n",
              "      <td>3</td>\n",
              "      <td>1</td>\n",
              "      <td>1031</td>\n",
              "      <td>1974</td>\n",
              "      <td>12.0</td>\n",
              "      <td>2018</td>\n",
              "      <td>9</td>\n",
              "      <td>0</td>\n",
              "    </tr>\n",
              "    <tr>\n",
              "      <th>1</th>\n",
              "      <td>225000</td>\n",
              "      <td>6</td>\n",
              "      <td>2</td>\n",
              "      <td>0</td>\n",
              "      <td>0.0</td>\n",
              "      <td>1.0</td>\n",
              "      <td>0.0</td>\n",
              "      <td>1.0</td>\n",
              "      <td>4</td>\n",
              "      <td>2</td>\n",
              "      <td>2091</td>\n",
              "      <td>1995</td>\n",
              "      <td>12.0</td>\n",
              "      <td>2018</td>\n",
              "      <td>7</td>\n",
              "      <td>0</td>\n",
              "    </tr>\n",
              "    <tr>\n",
              "      <th>2</th>\n",
              "      <td>274900</td>\n",
              "      <td>14</td>\n",
              "      <td>2</td>\n",
              "      <td>0</td>\n",
              "      <td>0.0</td>\n",
              "      <td>1.0</td>\n",
              "      <td>0.0</td>\n",
              "      <td>1.0</td>\n",
              "      <td>3</td>\n",
              "      <td>1</td>\n",
              "      <td>2016</td>\n",
              "      <td>1980</td>\n",
              "      <td>12.0</td>\n",
              "      <td>2018</td>\n",
              "      <td>11</td>\n",
              "      <td>0</td>\n",
              "    </tr>\n",
              "    <tr>\n",
              "      <th>3</th>\n",
              "      <td>175000</td>\n",
              "      <td>16</td>\n",
              "      <td>1</td>\n",
              "      <td>0</td>\n",
              "      <td>0.0</td>\n",
              "      <td>1.0</td>\n",
              "      <td>0.0</td>\n",
              "      <td>4.0</td>\n",
              "      <td>4</td>\n",
              "      <td>1</td>\n",
              "      <td>1920</td>\n",
              "      <td>1978</td>\n",
              "      <td>12.0</td>\n",
              "      <td>2018</td>\n",
              "      <td>6</td>\n",
              "      <td>0</td>\n",
              "    </tr>\n",
              "    <tr>\n",
              "      <th>4</th>\n",
              "      <td>179000</td>\n",
              "      <td>29</td>\n",
              "      <td>0</td>\n",
              "      <td>0</td>\n",
              "      <td>0.0</td>\n",
              "      <td>1.0</td>\n",
              "      <td>0.0</td>\n",
              "      <td>0.0</td>\n",
              "      <td>4</td>\n",
              "      <td>2</td>\n",
              "      <td>1329</td>\n",
              "      <td>1976</td>\n",
              "      <td>12.0</td>\n",
              "      <td>2018</td>\n",
              "      <td>9</td>\n",
              "      <td>0</td>\n",
              "    </tr>\n",
              "    <tr>\n",
              "      <th>...</th>\n",
              "      <td>...</td>\n",
              "      <td>...</td>\n",
              "      <td>...</td>\n",
              "      <td>...</td>\n",
              "      <td>...</td>\n",
              "      <td>...</td>\n",
              "      <td>...</td>\n",
              "      <td>...</td>\n",
              "      <td>...</td>\n",
              "      <td>...</td>\n",
              "      <td>...</td>\n",
              "      <td>...</td>\n",
              "      <td>...</td>\n",
              "      <td>...</td>\n",
              "      <td>...</td>\n",
              "      <td>...</td>\n",
              "    </tr>\n",
              "    <tr>\n",
              "      <th>4105</th>\n",
              "      <td>1225000</td>\n",
              "      <td>712</td>\n",
              "      <td>3</td>\n",
              "      <td>0</td>\n",
              "      <td>0.0</td>\n",
              "      <td>3.0</td>\n",
              "      <td>0.0</td>\n",
              "      <td>1.0</td>\n",
              "      <td>6</td>\n",
              "      <td>5</td>\n",
              "      <td>6546</td>\n",
              "      <td>2009</td>\n",
              "      <td>14.0</td>\n",
              "      <td>2020</td>\n",
              "      <td>11</td>\n",
              "      <td>1</td>\n",
              "    </tr>\n",
              "    <tr>\n",
              "      <th>4106</th>\n",
              "      <td>272000</td>\n",
              "      <td>6</td>\n",
              "      <td>0</td>\n",
              "      <td>0</td>\n",
              "      <td>1.0</td>\n",
              "      <td>3.0</td>\n",
              "      <td>0.0</td>\n",
              "      <td>2.0</td>\n",
              "      <td>5</td>\n",
              "      <td>2</td>\n",
              "      <td>2250</td>\n",
              "      <td>1961</td>\n",
              "      <td>14.0</td>\n",
              "      <td>2020</td>\n",
              "      <td>6</td>\n",
              "      <td>0</td>\n",
              "    </tr>\n",
              "    <tr>\n",
              "      <th>4107</th>\n",
              "      <td>298000</td>\n",
              "      <td>40</td>\n",
              "      <td>0</td>\n",
              "      <td>0</td>\n",
              "      <td>0.0</td>\n",
              "      <td>3.0</td>\n",
              "      <td>0.0</td>\n",
              "      <td>1.0</td>\n",
              "      <td>4</td>\n",
              "      <td>2</td>\n",
              "      <td>2260</td>\n",
              "      <td>1986</td>\n",
              "      <td>14.0</td>\n",
              "      <td>2019</td>\n",
              "      <td>11</td>\n",
              "      <td>0</td>\n",
              "    </tr>\n",
              "    <tr>\n",
              "      <th>4108</th>\n",
              "      <td>215000</td>\n",
              "      <td>49</td>\n",
              "      <td>0</td>\n",
              "      <td>0</td>\n",
              "      <td>0.0</td>\n",
              "      <td>3.0</td>\n",
              "      <td>0.0</td>\n",
              "      <td>1.0</td>\n",
              "      <td>4</td>\n",
              "      <td>2</td>\n",
              "      <td>2250</td>\n",
              "      <td>1961</td>\n",
              "      <td>14.0</td>\n",
              "      <td>2019</td>\n",
              "      <td>8</td>\n",
              "      <td>0</td>\n",
              "    </tr>\n",
              "    <tr>\n",
              "      <th>4109</th>\n",
              "      <td>450000</td>\n",
              "      <td>94</td>\n",
              "      <td>3</td>\n",
              "      <td>0</td>\n",
              "      <td>0.0</td>\n",
              "      <td>3.0</td>\n",
              "      <td>0.0</td>\n",
              "      <td>5.0</td>\n",
              "      <td>4</td>\n",
              "      <td>3</td>\n",
              "      <td>3136</td>\n",
              "      <td>1994</td>\n",
              "      <td>14.0</td>\n",
              "      <td>2020</td>\n",
              "      <td>11</td>\n",
              "      <td>0</td>\n",
              "    </tr>\n",
              "  </tbody>\n",
              "</table>\n",
              "<p>4108 rows × 16 columns</p>\n",
              "</div>\n",
              "      <button class=\"colab-df-convert\" onclick=\"convertToInteractive('df-bf40d164-cf28-422a-870d-bf5a95f908f8')\"\n",
              "              title=\"Convert this dataframe to an interactive table.\"\n",
              "              style=\"display:none;\">\n",
              "        \n",
              "  <svg xmlns=\"http://www.w3.org/2000/svg\" height=\"24px\"viewBox=\"0 0 24 24\"\n",
              "       width=\"24px\">\n",
              "    <path d=\"M0 0h24v24H0V0z\" fill=\"none\"/>\n",
              "    <path d=\"M18.56 5.44l.94 2.06.94-2.06 2.06-.94-2.06-.94-.94-2.06-.94 2.06-2.06.94zm-11 1L8.5 8.5l.94-2.06 2.06-.94-2.06-.94L8.5 2.5l-.94 2.06-2.06.94zm10 10l.94 2.06.94-2.06 2.06-.94-2.06-.94-.94-2.06-.94 2.06-2.06.94z\"/><path d=\"M17.41 7.96l-1.37-1.37c-.4-.4-.92-.59-1.43-.59-.52 0-1.04.2-1.43.59L10.3 9.45l-7.72 7.72c-.78.78-.78 2.05 0 2.83L4 21.41c.39.39.9.59 1.41.59.51 0 1.02-.2 1.41-.59l7.78-7.78 2.81-2.81c.8-.78.8-2.07 0-2.86zM5.41 20L4 18.59l7.72-7.72 1.47 1.35L5.41 20z\"/>\n",
              "  </svg>\n",
              "      </button>\n",
              "      \n",
              "  <style>\n",
              "    .colab-df-container {\n",
              "      display:flex;\n",
              "      flex-wrap:wrap;\n",
              "      gap: 12px;\n",
              "    }\n",
              "\n",
              "    .colab-df-convert {\n",
              "      background-color: #E8F0FE;\n",
              "      border: none;\n",
              "      border-radius: 50%;\n",
              "      cursor: pointer;\n",
              "      display: none;\n",
              "      fill: #1967D2;\n",
              "      height: 32px;\n",
              "      padding: 0 0 0 0;\n",
              "      width: 32px;\n",
              "    }\n",
              "\n",
              "    .colab-df-convert:hover {\n",
              "      background-color: #E2EBFA;\n",
              "      box-shadow: 0px 1px 2px rgba(60, 64, 67, 0.3), 0px 1px 3px 1px rgba(60, 64, 67, 0.15);\n",
              "      fill: #174EA6;\n",
              "    }\n",
              "\n",
              "    [theme=dark] .colab-df-convert {\n",
              "      background-color: #3B4455;\n",
              "      fill: #D2E3FC;\n",
              "    }\n",
              "\n",
              "    [theme=dark] .colab-df-convert:hover {\n",
              "      background-color: #434B5C;\n",
              "      box-shadow: 0px 1px 3px 1px rgba(0, 0, 0, 0.15);\n",
              "      filter: drop-shadow(0px 1px 2px rgba(0, 0, 0, 0.3));\n",
              "      fill: #FFFFFF;\n",
              "    }\n",
              "  </style>\n",
              "\n",
              "      <script>\n",
              "        const buttonEl =\n",
              "          document.querySelector('#df-bf40d164-cf28-422a-870d-bf5a95f908f8 button.colab-df-convert');\n",
              "        buttonEl.style.display =\n",
              "          google.colab.kernel.accessAllowed ? 'block' : 'none';\n",
              "\n",
              "        async function convertToInteractive(key) {\n",
              "          const element = document.querySelector('#df-bf40d164-cf28-422a-870d-bf5a95f908f8');\n",
              "          const dataTable =\n",
              "            await google.colab.kernel.invokeFunction('convertToInteractive',\n",
              "                                                     [key], {});\n",
              "          if (!dataTable) return;\n",
              "\n",
              "          const docLinkHtml = 'Like what you see? Visit the ' +\n",
              "            '<a target=\"_blank\" href=https://colab.research.google.com/notebooks/data_table.ipynb>data table notebook</a>'\n",
              "            + ' to learn more about interactive tables.';\n",
              "          element.innerHTML = '';\n",
              "          dataTable['output_type'] = 'display_data';\n",
              "          await google.colab.output.renderOutput(dataTable, element);\n",
              "          const docLink = document.createElement('div');\n",
              "          docLink.innerHTML = docLinkHtml;\n",
              "          element.appendChild(docLink);\n",
              "        }\n",
              "      </script>\n",
              "    </div>\n",
              "  </div>\n",
              "  "
            ]
          },
          "metadata": {},
          "execution_count": 11
        }
      ]
    },
    {
      "cell_type": "code",
      "source": [
        "enc.categories_"
      ],
      "metadata": {
        "colab": {
          "base_uri": "https://localhost:8080/"
        },
        "id": "xzI6f21C23Zl",
        "outputId": "917a9adb-bb17-429c-934a-3190c3b80898"
      },
      "execution_count": 10,
      "outputs": [
        {
          "output_type": "execute_result",
          "data": {
            "text/plain": [
              "[array(['No', 'Yes'], dtype=object),\n",
              " array(['NE', 'NW', 'SE', 'SW'], dtype=object),\n",
              " array(['Cache', 'Logan'], dtype=object),\n",
              " array(['Cash', 'Conventional', 'FHA', 'Other', 'USDA Rural Development', 'VA'], dtype=object),\n",
              " array([84305, 84308, 84318, 84319, 84320, 84321, 84325, 84326, 84327, 84328, 84332, 84333, 84335,\n",
              "        84338, 84339, 84341])]"
            ]
          },
          "metadata": {},
          "execution_count": 10
        }
      ]
    },
    {
      "cell_type": "code",
      "source": [
        "rand_state = 1000"
      ],
      "metadata": {
        "id": "jX0ESC_Q28KR"
      },
      "execution_count": 12,
      "outputs": []
    },
    {
      "cell_type": "code",
      "source": [
        "#Defining Dependent and Independent Variables i.e. 'Y' and 'x' resp. & splitting the data for training and testing\n",
        "y = df['Sold Price']\n",
        "X = df.drop('Sold Price', axis=1)\n",
        "X_train, X_test, y_train, y_test = train_test_split(X, y, test_size=0.3, random_state=rand_state)"
      ],
      "metadata": {
        "id": "n2Sg8WHn3YLa"
      },
      "execution_count": 13,
      "outputs": []
    },
    {
      "cell_type": "code",
      "source": [
        "#Applying Model\n",
        "RF_regression = RandomForestRegressor(random_state=rand_state)\n",
        "RF_regression.fit(X_train, y_train)"
      ],
      "metadata": {
        "colab": {
          "base_uri": "https://localhost:8080/"
        },
        "id": "zUk5EJcE3kkY",
        "outputId": "4d83b3b1-84b4-42b2-8232-b5a273ad9900"
      },
      "execution_count": 15,
      "outputs": [
        {
          "output_type": "execute_result",
          "data": {
            "text/plain": [
              "RandomForestRegressor(random_state=1000)"
            ]
          },
          "metadata": {},
          "execution_count": 15
        }
      ]
    },
    {
      "cell_type": "code",
      "source": [
        "#Making Prediction\n",
        "y_hat = RF_regression.predict(X_test)\n",
        "predictions = pd.DataFrame({ 'y_test':y_test,'y_hat':y_hat})\n",
        "predictions.head()"
      ],
      "metadata": {
        "colab": {
          "base_uri": "https://localhost:8080/",
          "height": 206
        },
        "id": "GSSUwJ9v3wCU",
        "outputId": "00eed0f5-d6e9-4f91-d579-64e04a4d8c66"
      },
      "execution_count": 18,
      "outputs": [
        {
          "output_type": "execute_result",
          "data": {
            "text/plain": [
              "      y_test      y_hat\n",
              "4086  234500  260053.50\n",
              "2938  200685  209089.60\n",
              "175   345500  383279.00\n",
              "1940  230000  229329.94\n",
              "1763  299000  379321.73"
            ],
            "text/html": [
              "\n",
              "  <div id=\"df-7bd76e10-eefd-46ff-aea2-b02fc7c03a27\">\n",
              "    <div class=\"colab-df-container\">\n",
              "      <div>\n",
              "<style scoped>\n",
              "    .dataframe tbody tr th:only-of-type {\n",
              "        vertical-align: middle;\n",
              "    }\n",
              "\n",
              "    .dataframe tbody tr th {\n",
              "        vertical-align: top;\n",
              "    }\n",
              "\n",
              "    .dataframe thead th {\n",
              "        text-align: right;\n",
              "    }\n",
              "</style>\n",
              "<table border=\"1\" class=\"dataframe\">\n",
              "  <thead>\n",
              "    <tr style=\"text-align: right;\">\n",
              "      <th></th>\n",
              "      <th>y_test</th>\n",
              "      <th>y_hat</th>\n",
              "    </tr>\n",
              "  </thead>\n",
              "  <tbody>\n",
              "    <tr>\n",
              "      <th>4086</th>\n",
              "      <td>234500</td>\n",
              "      <td>260053.50</td>\n",
              "    </tr>\n",
              "    <tr>\n",
              "      <th>2938</th>\n",
              "      <td>200685</td>\n",
              "      <td>209089.60</td>\n",
              "    </tr>\n",
              "    <tr>\n",
              "      <th>175</th>\n",
              "      <td>345500</td>\n",
              "      <td>383279.00</td>\n",
              "    </tr>\n",
              "    <tr>\n",
              "      <th>1940</th>\n",
              "      <td>230000</td>\n",
              "      <td>229329.94</td>\n",
              "    </tr>\n",
              "    <tr>\n",
              "      <th>1763</th>\n",
              "      <td>299000</td>\n",
              "      <td>379321.73</td>\n",
              "    </tr>\n",
              "  </tbody>\n",
              "</table>\n",
              "</div>\n",
              "      <button class=\"colab-df-convert\" onclick=\"convertToInteractive('df-7bd76e10-eefd-46ff-aea2-b02fc7c03a27')\"\n",
              "              title=\"Convert this dataframe to an interactive table.\"\n",
              "              style=\"display:none;\">\n",
              "        \n",
              "  <svg xmlns=\"http://www.w3.org/2000/svg\" height=\"24px\"viewBox=\"0 0 24 24\"\n",
              "       width=\"24px\">\n",
              "    <path d=\"M0 0h24v24H0V0z\" fill=\"none\"/>\n",
              "    <path d=\"M18.56 5.44l.94 2.06.94-2.06 2.06-.94-2.06-.94-.94-2.06-.94 2.06-2.06.94zm-11 1L8.5 8.5l.94-2.06 2.06-.94-2.06-.94L8.5 2.5l-.94 2.06-2.06.94zm10 10l.94 2.06.94-2.06 2.06-.94-2.06-.94-.94-2.06-.94 2.06-2.06.94z\"/><path d=\"M17.41 7.96l-1.37-1.37c-.4-.4-.92-.59-1.43-.59-.52 0-1.04.2-1.43.59L10.3 9.45l-7.72 7.72c-.78.78-.78 2.05 0 2.83L4 21.41c.39.39.9.59 1.41.59.51 0 1.02-.2 1.41-.59l7.78-7.78 2.81-2.81c.8-.78.8-2.07 0-2.86zM5.41 20L4 18.59l7.72-7.72 1.47 1.35L5.41 20z\"/>\n",
              "  </svg>\n",
              "      </button>\n",
              "      \n",
              "  <style>\n",
              "    .colab-df-container {\n",
              "      display:flex;\n",
              "      flex-wrap:wrap;\n",
              "      gap: 12px;\n",
              "    }\n",
              "\n",
              "    .colab-df-convert {\n",
              "      background-color: #E8F0FE;\n",
              "      border: none;\n",
              "      border-radius: 50%;\n",
              "      cursor: pointer;\n",
              "      display: none;\n",
              "      fill: #1967D2;\n",
              "      height: 32px;\n",
              "      padding: 0 0 0 0;\n",
              "      width: 32px;\n",
              "    }\n",
              "\n",
              "    .colab-df-convert:hover {\n",
              "      background-color: #E2EBFA;\n",
              "      box-shadow: 0px 1px 2px rgba(60, 64, 67, 0.3), 0px 1px 3px 1px rgba(60, 64, 67, 0.15);\n",
              "      fill: #174EA6;\n",
              "    }\n",
              "\n",
              "    [theme=dark] .colab-df-convert {\n",
              "      background-color: #3B4455;\n",
              "      fill: #D2E3FC;\n",
              "    }\n",
              "\n",
              "    [theme=dark] .colab-df-convert:hover {\n",
              "      background-color: #434B5C;\n",
              "      box-shadow: 0px 1px 3px 1px rgba(0, 0, 0, 0.15);\n",
              "      filter: drop-shadow(0px 1px 2px rgba(0, 0, 0, 0.3));\n",
              "      fill: #FFFFFF;\n",
              "    }\n",
              "  </style>\n",
              "\n",
              "      <script>\n",
              "        const buttonEl =\n",
              "          document.querySelector('#df-7bd76e10-eefd-46ff-aea2-b02fc7c03a27 button.colab-df-convert');\n",
              "        buttonEl.style.display =\n",
              "          google.colab.kernel.accessAllowed ? 'block' : 'none';\n",
              "\n",
              "        async function convertToInteractive(key) {\n",
              "          const element = document.querySelector('#df-7bd76e10-eefd-46ff-aea2-b02fc7c03a27');\n",
              "          const dataTable =\n",
              "            await google.colab.kernel.invokeFunction('convertToInteractive',\n",
              "                                                     [key], {});\n",
              "          if (!dataTable) return;\n",
              "\n",
              "          const docLinkHtml = 'Like what you see? Visit the ' +\n",
              "            '<a target=\"_blank\" href=https://colab.research.google.com/notebooks/data_table.ipynb>data table notebook</a>'\n",
              "            + ' to learn more about interactive tables.';\n",
              "          element.innerHTML = '';\n",
              "          dataTable['output_type'] = 'display_data';\n",
              "          await google.colab.output.renderOutput(dataTable, element);\n",
              "          const docLink = document.createElement('div');\n",
              "          docLink.innerHTML = docLinkHtml;\n",
              "          element.appendChild(docLink);\n",
              "        }\n",
              "      </script>\n",
              "    </div>\n",
              "  </div>\n",
              "  "
            ]
          },
          "metadata": {},
          "execution_count": 18
        }
      ]
    },
    {
      "cell_type": "code",
      "source": [
        "sns.scatterplot(x=y_test, y=y_hat, alpha=0.6)\n",
        "sns.lineplot(y_test, y_test)\n",
        "\n",
        "plt.xlabel('Actual price', fontsize=14)\n",
        "plt.ylabel('Prediced  price', fontsize=14)\n",
        "plt.title('Actual vs Predicted  price (test set)', fontsize=17)\n",
        "plt.show()"
      ],
      "metadata": {
        "colab": {
          "base_uri": "https://localhost:8080/",
          "height": 303
        },
        "id": "kDoZtnU93zqz",
        "outputId": "1668630a-b4eb-4e7e-88c4-03c6bae3c550"
      },
      "execution_count": 21,
      "outputs": [
        {
          "output_type": "display_data",
          "data": {
            "text/plain": [
              "<Figure size 432x288 with 1 Axes>"
            ],
            "image/png": "[encoded data removed]"
          },
          "metadata": {
            "needs_background": "light"
          }
        }
      ]
    },
    {
      "cell_type": "code",
      "source": [
        "#Checking Accuracy\n",
        "np.round(RF_regression.score(X_test, y_test),4)"
      ],
      "metadata": {
        "colab": {
          "base_uri": "https://localhost:8080/"
        },
        "id": "OGBvqrkI3_hL",
        "outputId": "5e6f374b-6818-4ae8-f158-67573864f6cb"
      },
      "execution_count": 22,
      "outputs": [
        {
          "output_type": "execute_result",
          "data": {
            "text/plain": [
              "0.8364"
            ]
          },
          "metadata": {},
          "execution_count": 22
        }
      ]
    },
    {
      "cell_type": "code",
      "source": [
        "MSE_test = round(np.mean(np.square(y_test - y_hat)),2)\n",
        "RMSE_test = round(np.sqrt(MSE_test),2)\n",
        "RMSE_test"
      ],
      "metadata": {
        "colab": {
          "base_uri": "https://localhost:8080/"
        },
        "id": "_xrEgBBS4Mlh",
        "outputId": "9f86a61d-29bc-43d5-99f5-468797fde6c5"
      },
      "execution_count": 23,
      "outputs": [
        {
          "output_type": "execute_result",
          "data": {
            "text/plain": [
              "46624.02"
            ]
          },
          "metadata": {},
          "execution_count": 23
        }
      ]
    },
    {
      "cell_type": "code",
      "source": [
        "#Tuning Hyper Parameters \n",
        "my_param_grid = {'n_estimators': [10,100,500], 'max_features':['sqrt','log2'], 'max_depth':[5,10,20]}"
      ],
      "metadata": {
        "id": "HM0S1xaR4Ouz"
      },
      "execution_count": 24,
      "outputs": []
    },
    {
      "cell_type": "code",
      "source": [
        "grid = GridSearchCV(estimator=RandomForestRegressor(random_state=rand_state),param_grid= my_param_grid, refit = True, verbose=2, cv=5 )\n",
        "grid.fit(X_train,y_train)"
      ],
      "metadata": {
        "colab": {
          "base_uri": "https://localhost:8080/"
        },
        "id": "EzYmxzLG4SZ9",
        "outputId": "2dc6cf01-e319-48a2-b2d8-ed9378cc2bcb"
      },
      "execution_count": 26,
      "outputs": [
        {
          "output_type": "stream",
          "name": "stdout",
          "text": [
            "Fitting 5 folds for each of 18 candidates, totalling 90 fits\n",
            "[CV] END ....max_depth=5, max_features=sqrt, n_estimators=10; total time=   0.2s\n",
            "[CV] END ....max_depth=5, max_features=sqrt, n_estimators=10; total time=   0.1s\n",
            "[CV] END ....max_depth=5, max_features=sqrt, n_estimators=10; total time=   0.1s\n",
            "[CV] END ....max_depth=5, max_features=sqrt, n_estimators=10; total time=   0.1s\n",
            "[CV] END ....max_depth=5, max_features=sqrt, n_estimators=10; total time=   0.1s\n",
            "[CV] END ...max_depth=5, max_features=sqrt, n_estimators=100; total time=   0.6s\n",
            "[CV] END ...max_depth=5, max_features=sqrt, n_estimators=100; total time=   0.5s\n",
            "[CV] END ...max_depth=5, max_features=sqrt, n_estimators=100; total time=   0.4s\n",
            "[CV] END ...max_depth=5, max_features=sqrt, n_estimators=100; total time=   0.4s\n",
            "[CV] END ...max_depth=5, max_features=sqrt, n_estimators=100; total time=   0.3s\n",
            "[CV] END ...max_depth=5, max_features=sqrt, n_estimators=500; total time=   1.3s\n",
            "[CV] END ...max_depth=5, max_features=sqrt, n_estimators=500; total time=   1.4s\n",
            "[CV] END ...max_depth=5, max_features=sqrt, n_estimators=500; total time=   1.3s\n",
            "[CV] END ...max_depth=5, max_features=sqrt, n_estimators=500; total time=   1.0s\n",
            "[CV] END ...max_depth=5, max_features=sqrt, n_estimators=500; total time=   1.0s\n",
            "[CV] END ....max_depth=5, max_features=log2, n_estimators=10; total time=   0.0s\n",
            "[CV] END ....max_depth=5, max_features=log2, n_estimators=10; total time=   0.0s\n",
            "[CV] END ....max_depth=5, max_features=log2, n_estimators=10; total time=   0.0s\n",
            "[CV] END ....max_depth=5, max_features=log2, n_estimators=10; total time=   0.0s\n",
            "[CV] END ....max_depth=5, max_features=log2, n_estimators=10; total time=   0.0s\n",
            "[CV] END ...max_depth=5, max_features=log2, n_estimators=100; total time=   0.2s\n",
            "[CV] END ...max_depth=5, max_features=log2, n_estimators=100; total time=   0.2s\n",
            "[CV] END ...max_depth=5, max_features=log2, n_estimators=100; total time=   0.2s\n",
            "[CV] END ...max_depth=5, max_features=log2, n_estimators=100; total time=   0.2s\n",
            "[CV] END ...max_depth=5, max_features=log2, n_estimators=100; total time=   0.2s\n",
            "[CV] END ...max_depth=5, max_features=log2, n_estimators=500; total time=   1.0s\n",
            "[CV] END ...max_depth=5, max_features=log2, n_estimators=500; total time=   1.0s\n",
            "[CV] END ...max_depth=5, max_features=log2, n_estimators=500; total time=   1.0s\n",
            "[CV] END ...max_depth=5, max_features=log2, n_estimators=500; total time=   1.0s\n",
            "[CV] END ...max_depth=5, max_features=log2, n_estimators=500; total time=   1.0s\n",
            "[CV] END ...max_depth=10, max_features=sqrt, n_estimators=10; total time=   0.0s\n",
            "[CV] END ...max_depth=10, max_features=sqrt, n_estimators=10; total time=   0.0s\n",
            "[CV] END ...max_depth=10, max_features=sqrt, n_estimators=10; total time=   0.0s\n",
            "[CV] END ...max_depth=10, max_features=sqrt, n_estimators=10; total time=   0.0s\n",
            "[CV] END ...max_depth=10, max_features=sqrt, n_estimators=10; total time=   0.0s\n",
            "[CV] END ..max_depth=10, max_features=sqrt, n_estimators=100; total time=   0.3s\n",
            "[CV] END ..max_depth=10, max_features=sqrt, n_estimators=100; total time=   0.3s\n",
            "[CV] END ..max_depth=10, max_features=sqrt, n_estimators=100; total time=   0.3s\n",
            "[CV] END ..max_depth=10, max_features=sqrt, n_estimators=100; total time=   0.3s\n",
            "[CV] END ..max_depth=10, max_features=sqrt, n_estimators=100; total time=   0.3s\n",
            "[CV] END ..max_depth=10, max_features=sqrt, n_estimators=500; total time=   1.5s\n",
            "[CV] END ..max_depth=10, max_features=sqrt, n_estimators=500; total time=   3.0s\n",
            "[CV] END ..max_depth=10, max_features=sqrt, n_estimators=500; total time=   4.8s\n",
            "[CV] END ..max_depth=10, max_features=sqrt, n_estimators=500; total time=   1.6s\n",
            "[CV] END ..max_depth=10, max_features=sqrt, n_estimators=500; total time=   1.5s\n",
            "[CV] END ...max_depth=10, max_features=log2, n_estimators=10; total time=   0.0s\n",
            "[CV] END ...max_depth=10, max_features=log2, n_estimators=10; total time=   0.0s\n",
            "[CV] END ...max_depth=10, max_features=log2, n_estimators=10; total time=   0.0s\n",
            "[CV] END ...max_depth=10, max_features=log2, n_estimators=10; total time=   0.0s\n",
            "[CV] END ...max_depth=10, max_features=log2, n_estimators=10; total time=   0.0s\n",
            "[CV] END ..max_depth=10, max_features=log2, n_estimators=100; total time=   0.3s\n",
            "[CV] END ..max_depth=10, max_features=log2, n_estimators=100; total time=   0.3s\n",
            "[CV] END ..max_depth=10, max_features=log2, n_estimators=100; total time=   0.3s\n",
            "[CV] END ..max_depth=10, max_features=log2, n_estimators=100; total time=   0.3s\n",
            "[CV] END ..max_depth=10, max_features=log2, n_estimators=100; total time=   0.3s\n",
            "[CV] END ..max_depth=10, max_features=log2, n_estimators=500; total time=   1.5s\n",
            "[CV] END ..max_depth=10, max_features=log2, n_estimators=500; total time=   1.8s\n",
            "[CV] END ..max_depth=10, max_features=log2, n_estimators=500; total time=   1.9s\n",
            "[CV] END ..max_depth=10, max_features=log2, n_estimators=500; total time=   1.5s\n",
            "[CV] END ..max_depth=10, max_features=log2, n_estimators=500; total time=   1.4s\n",
            "[CV] END ...max_depth=20, max_features=sqrt, n_estimators=10; total time=   0.0s\n",
            "[CV] END ...max_depth=20, max_features=sqrt, n_estimators=10; total time=   0.0s\n",
            "[CV] END ...max_depth=20, max_features=sqrt, n_estimators=10; total time=   0.0s\n",
            "[CV] END ...max_depth=20, max_features=sqrt, n_estimators=10; total time=   0.0s\n",
            "[CV] END ...max_depth=20, max_features=sqrt, n_estimators=10; total time=   0.0s\n",
            "[CV] END ..max_depth=20, max_features=sqrt, n_estimators=100; total time=   0.4s\n",
            "[CV] END ..max_depth=20, max_features=sqrt, n_estimators=100; total time=   0.4s\n",
            "[CV] END ..max_depth=20, max_features=sqrt, n_estimators=100; total time=   0.4s\n",
            "[CV] END ..max_depth=20, max_features=sqrt, n_estimators=100; total time=   0.5s\n",
            "[CV] END ..max_depth=20, max_features=sqrt, n_estimators=100; total time=   0.8s\n",
            "[CV] END ..max_depth=20, max_features=sqrt, n_estimators=500; total time=   3.1s\n",
            "[CV] END ..max_depth=20, max_features=sqrt, n_estimators=500; total time=   2.1s\n",
            "[CV] END ..max_depth=20, max_features=sqrt, n_estimators=500; total time=   2.0s\n",
            "[CV] END ..max_depth=20, max_features=sqrt, n_estimators=500; total time=   2.0s\n",
            "[CV] END ..max_depth=20, max_features=sqrt, n_estimators=500; total time=   2.0s\n",
            "[CV] END ...max_depth=20, max_features=log2, n_estimators=10; total time=   0.0s\n",
            "[CV] END ...max_depth=20, max_features=log2, n_estimators=10; total time=   0.0s\n",
            "[CV] END ...max_depth=20, max_features=log2, n_estimators=10; total time=   0.1s\n",
            "[CV] END ...max_depth=20, max_features=log2, n_estimators=10; total time=   0.0s\n",
            "[CV] END ...max_depth=20, max_features=log2, n_estimators=10; total time=   0.0s\n",
            "[CV] END ..max_depth=20, max_features=log2, n_estimators=100; total time=   0.6s\n",
            "[CV] END ..max_depth=20, max_features=log2, n_estimators=100; total time=   0.5s\n",
            "[CV] END ..max_depth=20, max_features=log2, n_estimators=100; total time=   0.8s\n",
            "[CV] END ..max_depth=20, max_features=log2, n_estimators=100; total time=   0.7s\n",
            "[CV] END ..max_depth=20, max_features=log2, n_estimators=100; total time=   0.7s\n",
            "[CV] END ..max_depth=20, max_features=log2, n_estimators=500; total time=   2.8s\n",
            "[CV] END ..max_depth=20, max_features=log2, n_estimators=500; total time=   2.8s\n",
            "[CV] END ..max_depth=20, max_features=log2, n_estimators=500; total time=   2.0s\n",
            "[CV] END ..max_depth=20, max_features=log2, n_estimators=500; total time=   2.2s\n",
            "[CV] END ..max_depth=20, max_features=log2, n_estimators=500; total time=   2.0s\n"
          ]
        },
        {
          "output_type": "execute_result",
          "data": {
            "text/plain": [
              "GridSearchCV(cv=5, estimator=RandomForestRegressor(random_state=1000),\n",
              "             param_grid={'max_depth': [5, 10, 20],\n",
              "                         'max_features': ['sqrt', 'log2'],\n",
              "                         'n_estimators': [10, 100, 500]},\n",
              "             verbose=2)"
            ]
          },
          "metadata": {},
          "execution_count": 26
        }
      ]
    },
    {
      "cell_type": "code",
      "source": [
        "grid.best_params_"
      ],
      "metadata": {
        "colab": {
          "base_uri": "https://localhost:8080/"
        },
        "id": "28BJ_0gv4bRx",
        "outputId": "27817a6a-b681-4f67-8966-8486526a7348"
      },
      "execution_count": 27,
      "outputs": [
        {
          "output_type": "execute_result",
          "data": {
            "text/plain": [
              "{'max_depth': 20, 'max_features': 'sqrt', 'n_estimators': 500}"
            ]
          },
          "metadata": {},
          "execution_count": 27
        }
      ]
    },
    {
      "cell_type": "code",
      "source": [
        "grid.best_estimator_"
      ],
      "metadata": {
        "colab": {
          "base_uri": "https://localhost:8080/"
        },
        "id": "lkMQiHzE4grF",
        "outputId": "3109d517-bfca-49ad-8c68-a7cda02ce7d2"
      },
      "execution_count": 28,
      "outputs": [
        {
          "output_type": "execute_result",
          "data": {
            "text/plain": [
              "RandomForestRegressor(max_depth=20, max_features='sqrt', n_estimators=500,\n",
              "                      random_state=1000)"
            ]
          },
          "metadata": {},
          "execution_count": 28
        }
      ]
    },
    {
      "cell_type": "code",
      "source": [
        "y_hat_optimized = grid.predict(X_test)"
      ],
      "metadata": {
        "id": "gtn7HcMF4lZt"
      },
      "execution_count": 29,
      "outputs": []
    },
    {
      "cell_type": "code",
      "source": [
        "sns.scatterplot(x=y_test, y=y_hat_optimized, alpha=0.6)\n",
        "sns.lineplot(y_test, y_test)\n",
        "\n",
        "plt.xlabel('Actual price', fontsize=14)\n",
        "plt.ylabel('Prediced  price', fontsize=14)\n",
        "plt.title('Actual vs optimized predicted price (test set)', fontsize=17)\n",
        "plt.show()"
      ],
      "metadata": {
        "colab": {
          "base_uri": "https://localhost:8080/",
          "height": 303
        },
        "id": "Y5QdIYLl4ogV",
        "outputId": "26881937-3576-43a9-e42f-4b526be8b867"
      },
      "execution_count": 30,
      "outputs": [
        {
          "output_type": "display_data",
          "data": {
            "text/plain": [
              "<Figure size 432x288 with 1 Axes>"
            ],
            "image/png": "[encoded data removed]"
          },
          "metadata": {
            "needs_background": "light"
          }
        }
      ]
    },
    {
      "cell_type": "code",
      "source": [
        "np.round(grid.score(X_test, y_test),4)"
      ],
      "metadata": {
        "colab": {
          "base_uri": "https://localhost:8080/"
        },
        "id": "92tpY-B74pD9",
        "outputId": "c553fe34-f303-4eb9-a023-52bdfb08fb34"
      },
      "execution_count": 31,
      "outputs": [
        {
          "output_type": "execute_result",
          "data": {
            "text/plain": [
              "0.85"
            ]
          },
          "metadata": {},
          "execution_count": 31
        }
      ]
    },
    {
      "cell_type": "code",
      "source": [
        "MSE_test_opt = round(np.mean(np.square(y_test - y_hat_optimized)),2)\n",
        "RMSE_test_opt = round(np.sqrt(MSE_test_opt),2)\n",
        "RMSE_test_opt"
      ],
      "metadata": {
        "colab": {
          "base_uri": "https://localhost:8080/"
        },
        "id": "NCahIa1P4pfE",
        "outputId": "7d59c4fb-5e4d-474e-8499-e8b77fe97a11"
      },
      "execution_count": 32,
      "outputs": [
        {
          "output_type": "execute_result",
          "data": {
            "text/plain": [
              "44634.05"
            ]
          },
          "metadata": {},
          "execution_count": 32
        }
      ]
    },
    {
      "cell_type": "code",
      "source": [
        "#Random Forest can also be used for Feature Selection\n",
        "features = list(X_train.columns)\n",
        "features"
      ],
      "metadata": {
        "colab": {
          "base_uri": "https://localhost:8080/"
        },
        "id": "hkE0UVaZ4v-n",
        "outputId": "b9e7711d-0f42-4754-c21d-dfc895abb04e"
      },
      "execution_count": 33,
      "outputs": [
        {
          "output_type": "execute_result",
          "data": {
            "text/plain": [
              "['DOM',\n",
              " 'Garage Capacity',\n",
              " 'HOA Fee',\n",
              " 'Irregular Shape',\n",
              " 'Quadrant',\n",
              " 'School District',\n",
              " 'Sold Terms',\n",
              " 'Total Bedrooms',\n",
              " 'Total Bathrooms',\n",
              " 'Total Square Feet',\n",
              " 'Year Built',\n",
              " 'Zip',\n",
              " 'year_sold',\n",
              " 'month_sold',\n",
              " 'built_after_2000']"
            ]
          },
          "metadata": {},
          "execution_count": 33
        }
      ]
    },
    {
      "cell_type": "code",
      "source": [
        "RF_Regressor = RandomForestRegressor(n_estimators = 500, max_features='sqrt', max_depth=20, random_state= rand_state)\n",
        "RF_Regressor.fit(X_train, y_train)"
      ],
      "metadata": {
        "colab": {
          "base_uri": "https://localhost:8080/"
        },
        "id": "TStczZ2Z5Iun",
        "outputId": "2110f84f-eb35-4f6b-ec33-2c7e4648e9e3"
      },
      "execution_count": 34,
      "outputs": [
        {
          "output_type": "execute_result",
          "data": {
            "text/plain": [
              "RandomForestRegressor(max_depth=20, max_features='sqrt', n_estimators=500,\n",
              "                      random_state=1000)"
            ]
          },
          "metadata": {},
          "execution_count": 34
        }
      ]
    },
    {
      "cell_type": "code",
      "source": [
        "importance = RF_Regressor.feature_importances_\n",
        "importance"
      ],
      "metadata": {
        "colab": {
          "base_uri": "https://localhost:8080/"
        },
        "id": "5qk_yH9T5KlB",
        "outputId": "489d0520-32d9-4cfa-f052-3fad312cfb18"
      },
      "execution_count": 35,
      "outputs": [
        {
          "output_type": "execute_result",
          "data": {
            "text/plain": [
              "array([0.0413, 0.1561, 0.0407, 0.0125, 0.0207, 0.017 , 0.0269, 0.0903, 0.1171, 0.3262, 0.0557,\n",
              "       0.0277, 0.0273, 0.0267, 0.0138])"
            ]
          },
          "metadata": {},
          "execution_count": 35
        }
      ]
    },
    {
      "cell_type": "code",
      "source": [
        "#Displaying List of Important Features\n",
        "FIM = pd.DataFrame({'Features': features, 'Feature_importance':importance})\n",
        "FIM = FIM.sort_values(by=['Feature_importance'])\n",
        "FIM"
      ],
      "metadata": {
        "colab": {
          "base_uri": "https://localhost:8080/",
          "height": 519
        },
        "id": "IBmkYfk75MR4",
        "outputId": "ae0803ba-4f97-4a32-ada1-e97dd9c49a5b"
      },
      "execution_count": 36,
      "outputs": [
        {
          "output_type": "execute_result",
          "data": {
            "text/plain": [
              "             Features  Feature_importance\n",
              "3     Irregular Shape            0.012466\n",
              "14   built_after_2000            0.013762\n",
              "5     School District            0.017048\n",
              "4            Quadrant            0.020653\n",
              "13         month_sold            0.026675\n",
              "6          Sold Terms            0.026874\n",
              "12          year_sold            0.027349\n",
              "11                Zip            0.027711\n",
              "2             HOA Fee            0.040684\n",
              "0                 DOM            0.041279\n",
              "10         Year Built            0.055702\n",
              "7      Total Bedrooms            0.090317\n",
              "8     Total Bathrooms            0.117111\n",
              "1     Garage Capacity            0.156137\n",
              "9   Total Square Feet            0.326233"
            ],
            "text/html": [
              "\n",
              "  <div id=\"df-e05c14ad-fc2a-4ca2-8c78-53b078da1e4e\">\n",
              "    <div class=\"colab-df-container\">\n",
              "      <div>\n",
              "<style scoped>\n",
              "    .dataframe tbody tr th:only-of-type {\n",
              "        vertical-align: middle;\n",
              "    }\n",
              "\n",
              "    .dataframe tbody tr th {\n",
              "        vertical-align: top;\n",
              "    }\n",
              "\n",
              "    .dataframe thead th {\n",
              "        text-align: right;\n",
              "    }\n",
              "</style>\n",
              "<table border=\"1\" class=\"dataframe\">\n",
              "  <thead>\n",
              "    <tr style=\"text-align: right;\">\n",
              "      <th></th>\n",
              "      <th>Features</th>\n",
              "      <th>Feature_importance</th>\n",
              "    </tr>\n",
              "  </thead>\n",
              "  <tbody>\n",
              "    <tr>\n",
              "      <th>3</th>\n",
              "      <td>Irregular Shape</td>\n",
              "      <td>0.012466</td>\n",
              "    </tr>\n",
              "    <tr>\n",
              "      <th>14</th>\n",
              "      <td>built_after_2000</td>\n",
              "      <td>0.013762</td>\n",
              "    </tr>\n",
              "    <tr>\n",
              "      <th>5</th>\n",
              "      <td>School District</td>\n",
              "      <td>0.017048</td>\n",
              "    </tr>\n",
              "    <tr>\n",
              "      <th>4</th>\n",
              "      <td>Quadrant</td>\n",
              "      <td>0.020653</td>\n",
              "    </tr>\n",
              "    <tr>\n",
              "      <th>13</th>\n",
              "      <td>month_sold</td>\n",
              "      <td>0.026675</td>\n",
              "    </tr>\n",
              "    <tr>\n",
              "      <th>6</th>\n",
              "      <td>Sold Terms</td>\n",
              "      <td>0.026874</td>\n",
              "    </tr>\n",
              "    <tr>\n",
              "      <th>12</th>\n",
              "      <td>year_sold</td>\n",
              "      <td>0.027349</td>\n",
              "    </tr>\n",
              "    <tr>\n",
              "      <th>11</th>\n",
              "      <td>Zip</td>\n",
              "      <td>0.027711</td>\n",
              "    </tr>\n",
              "    <tr>\n",
              "      <th>2</th>\n",
              "      <td>HOA Fee</td>\n",
              "      <td>0.040684</td>\n",
              "    </tr>\n",
              "    <tr>\n",
              "      <th>0</th>\n",
              "      <td>DOM</td>\n",
              "      <td>0.041279</td>\n",
              "    </tr>\n",
              "    <tr>\n",
              "      <th>10</th>\n",
              "      <td>Year Built</td>\n",
              "      <td>0.055702</td>\n",
              "    </tr>\n",
              "    <tr>\n",
              "      <th>7</th>\n",
              "      <td>Total Bedrooms</td>\n",
              "      <td>0.090317</td>\n",
              "    </tr>\n",
              "    <tr>\n",
              "      <th>8</th>\n",
              "      <td>Total Bathrooms</td>\n",
              "      <td>0.117111</td>\n",
              "    </tr>\n",
              "    <tr>\n",
              "      <th>1</th>\n",
              "      <td>Garage Capacity</td>\n",
              "      <td>0.156137</td>\n",
              "    </tr>\n",
              "    <tr>\n",
              "      <th>9</th>\n",
              "      <td>Total Square Feet</td>\n",
              "      <td>0.326233</td>\n",
              "    </tr>\n",
              "  </tbody>\n",
              "</table>\n",
              "</div>\n",
              "      <button class=\"colab-df-convert\" onclick=\"convertToInteractive('df-e05c14ad-fc2a-4ca2-8c78-53b078da1e4e')\"\n",
              "              title=\"Convert this dataframe to an interactive table.\"\n",
              "              style=\"display:none;\">\n",
              "        \n",
              "  <svg xmlns=\"http://www.w3.org/2000/svg\" height=\"24px\"viewBox=\"0 0 24 24\"\n",
              "       width=\"24px\">\n",
              "    <path d=\"M0 0h24v24H0V0z\" fill=\"none\"/>\n",
              "    <path d=\"M18.56 5.44l.94 2.06.94-2.06 2.06-.94-2.06-.94-.94-2.06-.94 2.06-2.06.94zm-11 1L8.5 8.5l.94-2.06 2.06-.94-2.06-.94L8.5 2.5l-.94 2.06-2.06.94zm10 10l.94 2.06.94-2.06 2.06-.94-2.06-.94-.94-2.06-.94 2.06-2.06.94z\"/><path d=\"M17.41 7.96l-1.37-1.37c-.4-.4-.92-.59-1.43-.59-.52 0-1.04.2-1.43.59L10.3 9.45l-7.72 7.72c-.78.78-.78 2.05 0 2.83L4 21.41c.39.39.9.59 1.41.59.51 0 1.02-.2 1.41-.59l7.78-7.78 2.81-2.81c.8-.78.8-2.07 0-2.86zM5.41 20L4 18.59l7.72-7.72 1.47 1.35L5.41 20z\"/>\n",
              "  </svg>\n",
              "      </button>\n",
              "      \n",
              "  <style>\n",
              "    .colab-df-container {\n",
              "      display:flex;\n",
              "      flex-wrap:wrap;\n",
              "      gap: 12px;\n",
              "    }\n",
              "\n",
              "    .colab-df-convert {\n",
              "      background-color: #E8F0FE;\n",
              "      border: none;\n",
              "      border-radius: 50%;\n",
              "      cursor: pointer;\n",
              "      display: none;\n",
              "      fill: #1967D2;\n",
              "      height: 32px;\n",
              "      padding: 0 0 0 0;\n",
              "      width: 32px;\n",
              "    }\n",
              "\n",
              "    .colab-df-convert:hover {\n",
              "      background-color: #E2EBFA;\n",
              "      box-shadow: 0px 1px 2px rgba(60, 64, 67, 0.3), 0px 1px 3px 1px rgba(60, 64, 67, 0.15);\n",
              "      fill: #174EA6;\n",
              "    }\n",
              "\n",
              "    [theme=dark] .colab-df-convert {\n",
              "      background-color: #3B4455;\n",
              "      fill: #D2E3FC;\n",
              "    }\n",
              "\n",
              "    [theme=dark] .colab-df-convert:hover {\n",
              "      background-color: #434B5C;\n",
              "      box-shadow: 0px 1px 3px 1px rgba(0, 0, 0, 0.15);\n",
              "      filter: drop-shadow(0px 1px 2px rgba(0, 0, 0, 0.3));\n",
              "      fill: #FFFFFF;\n",
              "    }\n",
              "  </style>\n",
              "\n",
              "      <script>\n",
              "        const buttonEl =\n",
              "          document.querySelector('#df-e05c14ad-fc2a-4ca2-8c78-53b078da1e4e button.colab-df-convert');\n",
              "        buttonEl.style.display =\n",
              "          google.colab.kernel.accessAllowed ? 'block' : 'none';\n",
              "\n",
              "        async function convertToInteractive(key) {\n",
              "          const element = document.querySelector('#df-e05c14ad-fc2a-4ca2-8c78-53b078da1e4e');\n",
              "          const dataTable =\n",
              "            await google.colab.kernel.invokeFunction('convertToInteractive',\n",
              "                                                     [key], {});\n",
              "          if (!dataTable) return;\n",
              "\n",
              "          const docLinkHtml = 'Like what you see? Visit the ' +\n",
              "            '<a target=\"_blank\" href=https://colab.research.google.com/notebooks/data_table.ipynb>data table notebook</a>'\n",
              "            + ' to learn more about interactive tables.';\n",
              "          element.innerHTML = '';\n",
              "          dataTable['output_type'] = 'display_data';\n",
              "          await google.colab.output.renderOutput(dataTable, element);\n",
              "          const docLink = document.createElement('div');\n",
              "          docLink.innerHTML = docLinkHtml;\n",
              "          element.appendChild(docLink);\n",
              "        }\n",
              "      </script>\n",
              "    </div>\n",
              "  </div>\n",
              "  "
            ]
          },
          "metadata": {},
          "execution_count": 36
        }
      ]
    },
    {
      "cell_type": "code",
      "source": [
        "#Important Features Plot\n",
        "plt.figure(figsize=(10,6))\n",
        "plt.title('Feature Importance')\n",
        "sns.barplot(y='Features', x='Feature_importance', data=FIM)\n",
        "plt.show()"
      ],
      "metadata": {
        "colab": {
          "base_uri": "https://localhost:8080/",
          "height": 405
        },
        "id": "V5iT3X8p5PAJ",
        "outputId": "7b7aa6ad-e517-4557-f226-407aaa0a06a5"
      },
      "execution_count": 37,
      "outputs": [
        {
          "output_type": "display_data",
          "data": {
            "text/plain": [
              "<Figure size 720x432 with 1 Axes>"
            ],
            "image/png": "[encoded data removed]"
          },
          "metadata": {
            "needs_background": "light"
          }
        }
      ]
    }
  ]
}