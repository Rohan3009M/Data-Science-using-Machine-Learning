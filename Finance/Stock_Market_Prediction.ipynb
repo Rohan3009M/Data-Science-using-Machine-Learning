{
  "nbformat": 4,
  "nbformat_minor": 0,
  "metadata": {
    "colab": {
      "provenance": []
    },
    "kernelspec": {
      "name": "python3",
      "display_name": "Python 3"
    },
    "language_info": {
      "name": "python"
    }
  },
  "cells": [
    {
      "cell_type": "markdown",
      "source": [
        "# **Stock Market Prediction**\n",
        "In this code I have used Stacked LSTM (Long Short Term Memory) Model to Predict the Stock Price of Apple Company."
      ],
      "metadata": {
        "id": "VrPIuHwdNjRv"
      }
    },
    {
      "cell_type": "code",
      "execution_count": 39,
      "metadata": {
        "id": "0CQnXYWaNCo-"
      },
      "outputs": [],
      "source": [
        "#Importing Required Libraries\n",
        "import pandas as pd\n",
        "import pandas_datareader as pdr\n",
        "import numpy as np\n",
        "from numpy import array\n",
        "import math\n",
        "import matplotlib.pyplot as plt\n",
        "import seaborn as sns\n",
        "%matplotlib inline\n",
        "\n",
        "from sklearn.metrics import mean_squared_error\n",
        "from sklearn.preprocessing import MinMaxScaler\n",
        "\n",
        "import tensorflow as tf\n",
        "from tensorflow.keras.models import Sequential\n",
        "from tensorflow.keras.layers import Dense\n",
        "from tensorflow.keras.layers import LSTM\n",
        "\n",
        "import warnings\n",
        "warnings.filterwarnings('ignore')"
      ]
    },
    {
      "cell_type": "code",
      "source": [
        "#Importing the Dataset\n",
        "df = pd.read_csv('AAPL.csv')\n",
        "df.head()"
      ],
      "metadata": {
        "colab": {
          "base_uri": "https://localhost:8080/",
          "height": 374
        },
        "id": "Zhvfid_aOIXe",
        "outputId": "5e1ed87e-5179-4397-d841-d956435b1cf9"
      },
      "execution_count": 2,
      "outputs": [
        {
          "output_type": "execute_result",
          "data": {
            "text/plain": [
              "   Unnamed: 0 symbol                       date    close     high     low  \\\n",
              "0           0   AAPL  2015-05-27 00:00:00+00:00  132.045  132.260  130.05   \n",
              "1           1   AAPL  2015-05-28 00:00:00+00:00  131.780  131.950  131.10   \n",
              "2           2   AAPL  2015-05-29 00:00:00+00:00  130.280  131.450  129.90   \n",
              "3           3   AAPL  2015-06-01 00:00:00+00:00  130.535  131.390  130.05   \n",
              "4           4   AAPL  2015-06-02 00:00:00+00:00  129.960  130.655  129.32   \n",
              "\n",
              "     open    volume    adjClose     adjHigh      adjLow     adjOpen  \\\n",
              "0  130.34  45833246  121.682558  121.880685  119.844118  120.111360   \n",
              "1  131.86  30733309  121.438354  121.595013  120.811718  121.512076   \n",
              "2  131.23  50884452  120.056069  121.134251  119.705890  120.931516   \n",
              "3  131.20  32112797  120.291057  121.078960  119.844118  120.903870   \n",
              "4  129.86  33667627  119.761181  120.401640  119.171406  119.669029   \n",
              "\n",
              "   adjVolume  divCash  splitFactor  \n",
              "0   45833246      0.0          1.0  \n",
              "1   30733309      0.0          1.0  \n",
              "2   50884452      0.0          1.0  \n",
              "3   32112797      0.0          1.0  \n",
              "4   33667627      0.0          1.0  "
            ],
            "text/html": [
              "\n",
              "  <div id=\"df-aefa4d49-bda7-4451-bc48-98aacd5fce98\">\n",
              "    <div class=\"colab-df-container\">\n",
              "      <div>\n",
              "<style scoped>\n",
              "    .dataframe tbody tr th:only-of-type {\n",
              "        vertical-align: middle;\n",
              "    }\n",
              "\n",
              "    .dataframe tbody tr th {\n",
              "        vertical-align: top;\n",
              "    }\n",
              "\n",
              "    .dataframe thead th {\n",
              "        text-align: right;\n",
              "    }\n",
              "</style>\n",
              "<table border=\"1\" class=\"dataframe\">\n",
              "  <thead>\n",
              "    <tr style=\"text-align: right;\">\n",
              "      <th></th>\n",
              "      <th>Unnamed: 0</th>\n",
              "      <th>symbol</th>\n",
              "      <th>date</th>\n",
              "      <th>close</th>\n",
              "      <th>high</th>\n",
              "      <th>low</th>\n",
              "      <th>open</th>\n",
              "      <th>volume</th>\n",
              "      <th>adjClose</th>\n",
              "      <th>adjHigh</th>\n",
              "      <th>adjLow</th>\n",
              "      <th>adjOpen</th>\n",
              "      <th>adjVolume</th>\n",
              "      <th>divCash</th>\n",
              "      <th>splitFactor</th>\n",
              "    </tr>\n",
              "  </thead>\n",
              "  <tbody>\n",
              "    <tr>\n",
              "      <th>0</th>\n",
              "      <td>0</td>\n",
              "      <td>AAPL</td>\n",
              "      <td>2015-05-27 00:00:00+00:00</td>\n",
              "      <td>132.045</td>\n",
              "      <td>132.260</td>\n",
              "      <td>130.05</td>\n",
              "      <td>130.34</td>\n",
              "      <td>45833246</td>\n",
              "      <td>121.682558</td>\n",
              "      <td>121.880685</td>\n",
              "      <td>119.844118</td>\n",
              "      <td>120.111360</td>\n",
              "      <td>45833246</td>\n",
              "      <td>0.0</td>\n",
              "      <td>1.0</td>\n",
              "    </tr>\n",
              "    <tr>\n",
              "      <th>1</th>\n",
              "      <td>1</td>\n",
              "      <td>AAPL</td>\n",
              "      <td>2015-05-28 00:00:00+00:00</td>\n",
              "      <td>131.780</td>\n",
              "      <td>131.950</td>\n",
              "      <td>131.10</td>\n",
              "      <td>131.86</td>\n",
              "      <td>30733309</td>\n",
              "      <td>121.438354</td>\n",
              "      <td>121.595013</td>\n",
              "      <td>120.811718</td>\n",
              "      <td>121.512076</td>\n",
              "      <td>30733309</td>\n",
              "      <td>0.0</td>\n",
              "      <td>1.0</td>\n",
              "    </tr>\n",
              "    <tr>\n",
              "      <th>2</th>\n",
              "      <td>2</td>\n",
              "      <td>AAPL</td>\n",
              "      <td>2015-05-29 00:00:00+00:00</td>\n",
              "      <td>130.280</td>\n",
              "      <td>131.450</td>\n",
              "      <td>129.90</td>\n",
              "      <td>131.23</td>\n",
              "      <td>50884452</td>\n",
              "      <td>120.056069</td>\n",
              "      <td>121.134251</td>\n",
              "      <td>119.705890</td>\n",
              "      <td>120.931516</td>\n",
              "      <td>50884452</td>\n",
              "      <td>0.0</td>\n",
              "      <td>1.0</td>\n",
              "    </tr>\n",
              "    <tr>\n",
              "      <th>3</th>\n",
              "      <td>3</td>\n",
              "      <td>AAPL</td>\n",
              "      <td>2015-06-01 00:00:00+00:00</td>\n",
              "      <td>130.535</td>\n",
              "      <td>131.390</td>\n",
              "      <td>130.05</td>\n",
              "      <td>131.20</td>\n",
              "      <td>32112797</td>\n",
              "      <td>120.291057</td>\n",
              "      <td>121.078960</td>\n",
              "      <td>119.844118</td>\n",
              "      <td>120.903870</td>\n",
              "      <td>32112797</td>\n",
              "      <td>0.0</td>\n",
              "      <td>1.0</td>\n",
              "    </tr>\n",
              "    <tr>\n",
              "      <th>4</th>\n",
              "      <td>4</td>\n",
              "      <td>AAPL</td>\n",
              "      <td>2015-06-02 00:00:00+00:00</td>\n",
              "      <td>129.960</td>\n",
              "      <td>130.655</td>\n",
              "      <td>129.32</td>\n",
              "      <td>129.86</td>\n",
              "      <td>33667627</td>\n",
              "      <td>119.761181</td>\n",
              "      <td>120.401640</td>\n",
              "      <td>119.171406</td>\n",
              "      <td>119.669029</td>\n",
              "      <td>33667627</td>\n",
              "      <td>0.0</td>\n",
              "      <td>1.0</td>\n",
              "    </tr>\n",
              "  </tbody>\n",
              "</table>\n",
              "</div>\n",
              "      <button class=\"colab-df-convert\" onclick=\"convertToInteractive('df-aefa4d49-bda7-4451-bc48-98aacd5fce98')\"\n",
              "              title=\"Convert this dataframe to an interactive table.\"\n",
              "              style=\"display:none;\">\n",
              "        \n",
              "  <svg xmlns=\"http://www.w3.org/2000/svg\" height=\"24px\"viewBox=\"0 0 24 24\"\n",
              "       width=\"24px\">\n",
              "    <path d=\"M0 0h24v24H0V0z\" fill=\"none\"/>\n",
              "    <path d=\"M18.56 5.44l.94 2.06.94-2.06 2.06-.94-2.06-.94-.94-2.06-.94 2.06-2.06.94zm-11 1L8.5 8.5l.94-2.06 2.06-.94-2.06-.94L8.5 2.5l-.94 2.06-2.06.94zm10 10l.94 2.06.94-2.06 2.06-.94-2.06-.94-.94-2.06-.94 2.06-2.06.94z\"/><path d=\"M17.41 7.96l-1.37-1.37c-.4-.4-.92-.59-1.43-.59-.52 0-1.04.2-1.43.59L10.3 9.45l-7.72 7.72c-.78.78-.78 2.05 0 2.83L4 21.41c.39.39.9.59 1.41.59.51 0 1.02-.2 1.41-.59l7.78-7.78 2.81-2.81c.8-.78.8-2.07 0-2.86zM5.41 20L4 18.59l7.72-7.72 1.47 1.35L5.41 20z\"/>\n",
              "  </svg>\n",
              "      </button>\n",
              "      \n",
              "  <style>\n",
              "    .colab-df-container {\n",
              "      display:flex;\n",
              "      flex-wrap:wrap;\n",
              "      gap: 12px;\n",
              "    }\n",
              "\n",
              "    .colab-df-convert {\n",
              "      background-color: #E8F0FE;\n",
              "      border: none;\n",
              "      border-radius: 50%;\n",
              "      cursor: pointer;\n",
              "      display: none;\n",
              "      fill: #1967D2;\n",
              "      height: 32px;\n",
              "      padding: 0 0 0 0;\n",
              "      width: 32px;\n",
              "    }\n",
              "\n",
              "    .colab-df-convert:hover {\n",
              "      background-color: #E2EBFA;\n",
              "      box-shadow: 0px 1px 2px rgba(60, 64, 67, 0.3), 0px 1px 3px 1px rgba(60, 64, 67, 0.15);\n",
              "      fill: #174EA6;\n",
              "    }\n",
              "\n",
              "    [theme=dark] .colab-df-convert {\n",
              "      background-color: #3B4455;\n",
              "      fill: #D2E3FC;\n",
              "    }\n",
              "\n",
              "    [theme=dark] .colab-df-convert:hover {\n",
              "      background-color: #434B5C;\n",
              "      box-shadow: 0px 1px 3px 1px rgba(0, 0, 0, 0.15);\n",
              "      filter: drop-shadow(0px 1px 2px rgba(0, 0, 0, 0.3));\n",
              "      fill: #FFFFFF;\n",
              "    }\n",
              "  </style>\n",
              "\n",
              "      <script>\n",
              "        const buttonEl =\n",
              "          document.querySelector('#df-aefa4d49-bda7-4451-bc48-98aacd5fce98 button.colab-df-convert');\n",
              "        buttonEl.style.display =\n",
              "          google.colab.kernel.accessAllowed ? 'block' : 'none';\n",
              "\n",
              "        async function convertToInteractive(key) {\n",
              "          const element = document.querySelector('#df-aefa4d49-bda7-4451-bc48-98aacd5fce98');\n",
              "          const dataTable =\n",
              "            await google.colab.kernel.invokeFunction('convertToInteractive',\n",
              "                                                     [key], {});\n",
              "          if (!dataTable) return;\n",
              "\n",
              "          const docLinkHtml = 'Like what you see? Visit the ' +\n",
              "            '<a target=\"_blank\" href=https://colab.research.google.com/notebooks/data_table.ipynb>data table notebook</a>'\n",
              "            + ' to learn more about interactive tables.';\n",
              "          element.innerHTML = '';\n",
              "          dataTable['output_type'] = 'display_data';\n",
              "          await google.colab.output.renderOutput(dataTable, element);\n",
              "          const docLink = document.createElement('div');\n",
              "          docLink.innerHTML = docLinkHtml;\n",
              "          element.appendChild(docLink);\n",
              "        }\n",
              "      </script>\n",
              "    </div>\n",
              "  </div>\n",
              "  "
            ]
          },
          "metadata": {},
          "execution_count": 2
        }
      ]
    },
    {
      "cell_type": "code",
      "source": [
        "df1 = df.reset_index()['close']\n",
        "df1.head()"
      ],
      "metadata": {
        "colab": {
          "base_uri": "https://localhost:8080/"
        },
        "id": "5GWMOIuZObR1",
        "outputId": "858428eb-83b0-4bb6-d7a8-ee4199e003a6"
      },
      "execution_count": 3,
      "outputs": [
        {
          "output_type": "execute_result",
          "data": {
            "text/plain": [
              "0    132.045\n",
              "1    131.780\n",
              "2    130.280\n",
              "3    130.535\n",
              "4    129.960\n",
              "Name: close, dtype: float64"
            ]
          },
          "metadata": {},
          "execution_count": 3
        }
      ]
    },
    {
      "cell_type": "code",
      "source": [
        "#Plotting on Graph\n",
        "plt.plot(df1)"
      ],
      "metadata": {
        "colab": {
          "base_uri": "https://localhost:8080/",
          "height": 282
        },
        "id": "hfkLEwpwOsTR",
        "outputId": "8d39f739-43f1-496c-b400-24e6e4ad84ee"
      },
      "execution_count": 4,
      "outputs": [
        {
          "output_type": "execute_result",
          "data": {
            "text/plain": [
              "[<matplotlib.lines.Line2D at 0x7f70d60fa5b0>]"
            ]
          },
          "metadata": {},
          "execution_count": 4
        },
        {
          "output_type": "display_data",
          "data": {
            "text/plain": [
              "<Figure size 432x288 with 1 Axes>"
            ],
            "image/png": "[encoded data removed]"
          },
          "metadata": {
            "needs_background": "light"
          }
        }
      ]
    },
    {
      "cell_type": "code",
      "source": [
        "#Standardizing the Data since LSTM is sensitive to scale\n",
        "scaler = MinMaxScaler(feature_range = (0, 1))\n",
        "df1 = scaler.fit_transform(np.array(df1).reshape(-1, 1))\n",
        "df1"
      ],
      "metadata": {
        "colab": {
          "base_uri": "https://localhost:8080/"
        },
        "id": "MOEB_ghPSfqZ",
        "outputId": "43b09100-47f5-4214-bb28-49141c9c12f1"
      },
      "execution_count": 8,
      "outputs": [
        {
          "output_type": "execute_result",
          "data": {
            "text/plain": [
              "array([[0.17607447],\n",
              "       [0.17495567],\n",
              "       [0.16862282],\n",
              "       ...,\n",
              "       [0.96635143],\n",
              "       [0.9563033 ],\n",
              "       [0.96491598]])"
            ]
          },
          "metadata": {},
          "execution_count": 8
        }
      ]
    },
    {
      "cell_type": "code",
      "source": [
        "#Splitting the data for Training and Testing\n",
        "training_size = int(len(df1) * 0.65)\n",
        "test_size = len(df1) - training_size\n",
        "train_data, test_data = df1[0 : training_size, : ], df1[training_size : len(df1), : 1]"
      ],
      "metadata": {
        "id": "Haie6Y43S39x"
      },
      "execution_count": 10,
      "outputs": []
    },
    {
      "cell_type": "code",
      "source": [
        "training_size, test_size "
      ],
      "metadata": {
        "colab": {
          "base_uri": "https://localhost:8080/"
        },
        "id": "a9jVN3MPTo1s",
        "outputId": "169b4c26-cbaa-4549-bd0e-e06835c8c7ba"
      },
      "execution_count": 11,
      "outputs": [
        {
          "output_type": "execute_result",
          "data": {
            "text/plain": [
              "(817, 441)"
            ]
          },
          "metadata": {},
          "execution_count": 11
        }
      ]
    },
    {
      "cell_type": "code",
      "source": [
        "#Converting Array to Dataset Matrix\n",
        "def create_dataset(dataset, time_step = 1):\n",
        "\tdataX, dataY = [], []\n",
        "\tfor i in range(len(dataset) - time_step - 1):\n",
        "\t\ta = dataset[i : (i + time_step), 0] #i = 0 -> 0, 1, 2, 3 ----- 99   100 \n",
        "\t\tdataX.append(a)\n",
        "\t\tdataY.append(dataset[i + time_step, 0])\n",
        "\treturn np.array(dataX), np.array(dataY)"
      ],
      "metadata": {
        "id": "4g6f9OV5TwKQ"
      },
      "execution_count": 18,
      "outputs": []
    },
    {
      "cell_type": "code",
      "source": [
        "#Reshaping the Data\n",
        "time_step = 100\n",
        "X_train, y_train = create_dataset(train_data, time_step)\n",
        "X_test, ytest = create_dataset(test_data, time_step)"
      ],
      "metadata": {
        "id": "dFCsdCtSUcS8"
      },
      "execution_count": 19,
      "outputs": []
    },
    {
      "cell_type": "code",
      "source": [
        "print(X_train.shape), print(y_train.shape)"
      ],
      "metadata": {
        "colab": {
          "base_uri": "https://localhost:8080/"
        },
        "id": "SLCcEnHAUktu",
        "outputId": "0cc9213a-d3e6-4237-db46-8411851adad5"
      },
      "execution_count": 20,
      "outputs": [
        {
          "output_type": "stream",
          "name": "stdout",
          "text": [
            "(716, 100)\n",
            "(716,)\n"
          ]
        },
        {
          "output_type": "execute_result",
          "data": {
            "text/plain": [
              "(None, None)"
            ]
          },
          "metadata": {},
          "execution_count": 20
        }
      ]
    },
    {
      "cell_type": "code",
      "source": [
        "print(X_test.shape), print(ytest.shape)"
      ],
      "metadata": {
        "colab": {
          "base_uri": "https://localhost:8080/"
        },
        "id": "VSi1hIgZUvAf",
        "outputId": "199fd5ea-94b7-4887-d878-68e25b221cb9"
      },
      "execution_count": 21,
      "outputs": [
        {
          "output_type": "stream",
          "name": "stdout",
          "text": [
            "(340, 100)\n",
            "(340,)\n"
          ]
        },
        {
          "output_type": "execute_result",
          "data": {
            "text/plain": [
              "(None, None)"
            ]
          },
          "metadata": {},
          "execution_count": 21
        }
      ]
    },
    {
      "cell_type": "code",
      "source": [
        "#We always need to Reshape the Data for LSTM as it accepts 3 Dimension\n",
        "X_train = X_train.reshape(X_train.shape[0], X_train.shape[1], 1)\n",
        "X_test = X_test.reshape(X_test.shape[0], X_test.shape[1], 1)"
      ],
      "metadata": {
        "id": "DBkA2IFJUxoW"
      },
      "execution_count": 22,
      "outputs": []
    },
    {
      "cell_type": "code",
      "source": [
        "#Creating Model Architect\n",
        "model = Sequential()\n",
        "model.add(LSTM(50, return_sequences = True, input_shape = (100, 1)))\n",
        "model.add(LSTM(50, return_sequences = True))\n",
        "model.add(LSTM(50))\n",
        "model.add(Dense(1))\n",
        "model.compile(loss = 'mean_squared_error', optimizer = 'adam')"
      ],
      "metadata": {
        "id": "SETNohpIU57q"
      },
      "execution_count": 24,
      "outputs": []
    },
    {
      "cell_type": "code",
      "source": [
        "model.summary()"
      ],
      "metadata": {
        "colab": {
          "base_uri": "https://localhost:8080/"
        },
        "id": "pcK1Ch1UVQ45",
        "outputId": "5ba92312-68ea-41ef-da12-7a079bb513c5"
      },
      "execution_count": 25,
      "outputs": [
        {
          "output_type": "stream",
          "name": "stdout",
          "text": [
            "Model: \"sequential\"\n",
            "_________________________________________________________________\n",
            " Layer (type)                Output Shape              Param #   \n",
            "=================================================================\n",
            " lstm (LSTM)                 (None, 100, 50)           10400     \n",
            "                                                                 \n",
            " lstm_1 (LSTM)               (None, 100, 50)           20200     \n",
            "                                                                 \n",
            " lstm_2 (LSTM)               (None, 50)                20200     \n",
            "                                                                 \n",
            " dense (Dense)               (None, 1)                 51        \n",
            "                                                                 \n",
            "=================================================================\n",
            "Total params: 50,851\n",
            "Trainable params: 50,851\n",
            "Non-trainable params: 0\n",
            "_________________________________________________________________\n"
          ]
        }
      ]
    },
    {
      "cell_type": "code",
      "source": [
        "#Applying Model\n",
        "model.fit(X_train, y_train, validation_data = (X_test, ytest), epochs = 100, batch_size = 64, verbose = 1)"
      ],
      "metadata": {
        "colab": {
          "base_uri": "https://localhost:8080/"
        },
        "id": "8qC0SyrmVS2X",
        "outputId": "d22f9f86-ae86-48a8-fbca-d48080ccc757"
      },
      "execution_count": 26,
      "outputs": [
        {
          "output_type": "stream",
          "name": "stdout",
          "text": [
            "Epoch 1/100\n",
            "12/12 [==============================] - 11s 340ms/step - loss: 0.0159 - val_loss: 0.0598\n",
            "Epoch 2/100\n",
            "12/12 [==============================] - 3s 215ms/step - loss: 0.0030 - val_loss: 0.0045\n",
            "Epoch 3/100\n",
            "12/12 [==============================] - 3s 214ms/step - loss: 9.5904e-04 - val_loss: 0.0077\n",
            "Epoch 4/100\n",
            "12/12 [==============================] - 3s 218ms/step - loss: 8.1437e-04 - val_loss: 0.0040\n",
            "Epoch 5/100\n",
            "12/12 [==============================] - 3s 212ms/step - loss: 7.1797e-04 - val_loss: 0.0041\n",
            "Epoch 6/100\n",
            "12/12 [==============================] - 3s 216ms/step - loss: 6.5694e-04 - val_loss: 0.0040\n",
            "Epoch 7/100\n",
            "12/12 [==============================] - 3s 217ms/step - loss: 6.2341e-04 - val_loss: 0.0039\n",
            "Epoch 8/100\n",
            "12/12 [==============================] - 3s 292ms/step - loss: 6.1270e-04 - val_loss: 0.0037\n",
            "Epoch 9/100\n",
            "12/12 [==============================] - 3s 230ms/step - loss: 6.4709e-04 - val_loss: 0.0036\n",
            "Epoch 10/100\n",
            "12/12 [==============================] - 3s 212ms/step - loss: 6.1021e-04 - val_loss: 0.0035\n",
            "Epoch 11/100\n",
            "12/12 [==============================] - 3s 220ms/step - loss: 6.0550e-04 - val_loss: 0.0035\n",
            "Epoch 12/100\n",
            "12/12 [==============================] - 3s 214ms/step - loss: 6.0347e-04 - val_loss: 0.0034\n",
            "Epoch 13/100\n",
            "12/12 [==============================] - 3s 213ms/step - loss: 6.3052e-04 - val_loss: 0.0034\n",
            "Epoch 14/100\n",
            "12/12 [==============================] - 3s 213ms/step - loss: 5.7998e-04 - val_loss: 0.0035\n",
            "Epoch 15/100\n",
            "12/12 [==============================] - 3s 217ms/step - loss: 5.5114e-04 - val_loss: 0.0032\n",
            "Epoch 16/100\n",
            "12/12 [==============================] - 3s 216ms/step - loss: 5.4027e-04 - val_loss: 0.0031\n",
            "Epoch 17/100\n",
            "12/12 [==============================] - 3s 212ms/step - loss: 5.3971e-04 - val_loss: 0.0033\n",
            "Epoch 18/100\n",
            "12/12 [==============================] - 3s 214ms/step - loss: 5.4747e-04 - val_loss: 0.0033\n",
            "Epoch 19/100\n",
            "12/12 [==============================] - 3s 211ms/step - loss: 5.3366e-04 - val_loss: 0.0041\n",
            "Epoch 20/100\n",
            "12/12 [==============================] - 3s 292ms/step - loss: 5.4543e-04 - val_loss: 0.0028\n",
            "Epoch 21/100\n",
            "12/12 [==============================] - 4s 301ms/step - loss: 5.0971e-04 - val_loss: 0.0026\n",
            "Epoch 22/100\n",
            "12/12 [==============================] - 3s 262ms/step - loss: 4.9490e-04 - val_loss: 0.0025\n",
            "Epoch 23/100\n",
            "12/12 [==============================] - 4s 338ms/step - loss: 4.8178e-04 - val_loss: 0.0024\n",
            "Epoch 24/100\n",
            "12/12 [==============================] - 3s 270ms/step - loss: 4.5910e-04 - val_loss: 0.0024\n",
            "Epoch 25/100\n",
            "12/12 [==============================] - 3s 213ms/step - loss: 4.7782e-04 - val_loss: 0.0027\n",
            "Epoch 26/100\n",
            "12/12 [==============================] - 3s 215ms/step - loss: 4.6520e-04 - val_loss: 0.0021\n",
            "Epoch 27/100\n",
            "12/12 [==============================] - 3s 221ms/step - loss: 4.3890e-04 - val_loss: 0.0022\n",
            "Epoch 28/100\n",
            "12/12 [==============================] - 3s 216ms/step - loss: 5.8983e-04 - val_loss: 0.0024\n",
            "Epoch 29/100\n",
            "12/12 [==============================] - 3s 217ms/step - loss: 4.5268e-04 - val_loss: 0.0020\n",
            "Epoch 30/100\n",
            "12/12 [==============================] - 3s 217ms/step - loss: 4.1333e-04 - val_loss: 0.0019\n",
            "Epoch 31/100\n",
            "12/12 [==============================] - 3s 217ms/step - loss: 4.0161e-04 - val_loss: 0.0019\n",
            "Epoch 32/100\n",
            "12/12 [==============================] - 3s 215ms/step - loss: 4.0518e-04 - val_loss: 0.0018\n",
            "Epoch 33/100\n",
            "12/12 [==============================] - 3s 214ms/step - loss: 3.8577e-04 - val_loss: 0.0019\n",
            "Epoch 34/100\n",
            "12/12 [==============================] - 3s 219ms/step - loss: 4.2801e-04 - val_loss: 0.0017\n",
            "Epoch 35/100\n",
            "12/12 [==============================] - 3s 219ms/step - loss: 3.8093e-04 - val_loss: 0.0015\n",
            "Epoch 36/100\n",
            "12/12 [==============================] - 3s 217ms/step - loss: 3.6996e-04 - val_loss: 0.0022\n",
            "Epoch 37/100\n",
            "12/12 [==============================] - 3s 213ms/step - loss: 3.9616e-04 - val_loss: 0.0015\n",
            "Epoch 38/100\n",
            "12/12 [==============================] - 3s 215ms/step - loss: 3.7667e-04 - val_loss: 0.0014\n",
            "Epoch 39/100\n",
            "12/12 [==============================] - 3s 219ms/step - loss: 3.4883e-04 - val_loss: 0.0017\n",
            "Epoch 40/100\n",
            "12/12 [==============================] - 3s 213ms/step - loss: 3.3246e-04 - val_loss: 0.0013\n",
            "Epoch 41/100\n",
            "12/12 [==============================] - 3s 224ms/step - loss: 3.4409e-04 - val_loss: 0.0017\n",
            "Epoch 42/100\n",
            "12/12 [==============================] - 3s 214ms/step - loss: 3.4746e-04 - val_loss: 0.0013\n",
            "Epoch 43/100\n",
            "12/12 [==============================] - 3s 218ms/step - loss: 3.3659e-04 - val_loss: 0.0015\n",
            "Epoch 44/100\n",
            "12/12 [==============================] - 3s 216ms/step - loss: 3.1878e-04 - val_loss: 0.0014\n",
            "Epoch 45/100\n",
            "12/12 [==============================] - 3s 215ms/step - loss: 2.9368e-04 - val_loss: 0.0017\n",
            "Epoch 46/100\n",
            "12/12 [==============================] - 3s 217ms/step - loss: 2.8009e-04 - val_loss: 0.0013\n",
            "Epoch 47/100\n",
            "12/12 [==============================] - 3s 220ms/step - loss: 2.8809e-04 - val_loss: 0.0012\n",
            "Epoch 48/100\n",
            "12/12 [==============================] - 3s 219ms/step - loss: 2.7663e-04 - val_loss: 0.0013\n",
            "Epoch 49/100\n",
            "12/12 [==============================] - 3s 215ms/step - loss: 2.7840e-04 - val_loss: 0.0013\n",
            "Epoch 50/100\n",
            "12/12 [==============================] - 3s 215ms/step - loss: 2.8223e-04 - val_loss: 0.0016\n",
            "Epoch 51/100\n",
            "12/12 [==============================] - 3s 218ms/step - loss: 2.7598e-04 - val_loss: 0.0013\n",
            "Epoch 52/100\n",
            "12/12 [==============================] - 3s 219ms/step - loss: 2.5914e-04 - val_loss: 0.0014\n",
            "Epoch 53/100\n",
            "12/12 [==============================] - 3s 216ms/step - loss: 2.6617e-04 - val_loss: 0.0013\n",
            "Epoch 54/100\n",
            "12/12 [==============================] - 3s 218ms/step - loss: 2.4373e-04 - val_loss: 0.0012\n",
            "Epoch 55/100\n",
            "12/12 [==============================] - 3s 217ms/step - loss: 2.3435e-04 - val_loss: 0.0012\n",
            "Epoch 56/100\n",
            "12/12 [==============================] - 3s 215ms/step - loss: 2.3766e-04 - val_loss: 0.0011\n",
            "Epoch 57/100\n",
            "12/12 [==============================] - 3s 217ms/step - loss: 2.5854e-04 - val_loss: 0.0025\n",
            "Epoch 58/100\n",
            "12/12 [==============================] - 3s 216ms/step - loss: 3.2014e-04 - val_loss: 0.0011\n",
            "Epoch 59/100\n",
            "12/12 [==============================] - 3s 217ms/step - loss: 2.4719e-04 - val_loss: 0.0011\n",
            "Epoch 60/100\n",
            "12/12 [==============================] - 3s 215ms/step - loss: 2.3092e-04 - val_loss: 0.0014\n",
            "Epoch 61/100\n",
            "12/12 [==============================] - 3s 222ms/step - loss: 2.0528e-04 - val_loss: 0.0010\n",
            "Epoch 62/100\n",
            "12/12 [==============================] - 3s 215ms/step - loss: 2.2502e-04 - val_loss: 0.0010\n",
            "Epoch 63/100\n",
            "12/12 [==============================] - 3s 214ms/step - loss: 2.0998e-04 - val_loss: 0.0011\n",
            "Epoch 64/100\n",
            "12/12 [==============================] - 3s 212ms/step - loss: 2.1797e-04 - val_loss: 9.8896e-04\n",
            "Epoch 65/100\n",
            "12/12 [==============================] - 3s 211ms/step - loss: 2.1202e-04 - val_loss: 0.0018\n",
            "Epoch 66/100\n",
            "12/12 [==============================] - 3s 217ms/step - loss: 2.0299e-04 - val_loss: 0.0011\n",
            "Epoch 67/100\n",
            "12/12 [==============================] - 3s 212ms/step - loss: 1.8363e-04 - val_loss: 9.4718e-04\n",
            "Epoch 68/100\n",
            "12/12 [==============================] - 3s 218ms/step - loss: 1.7917e-04 - val_loss: 9.8011e-04\n",
            "Epoch 69/100\n",
            "12/12 [==============================] - 3s 214ms/step - loss: 1.7469e-04 - val_loss: 9.3940e-04\n",
            "Epoch 70/100\n",
            "12/12 [==============================] - 3s 216ms/step - loss: 1.7928e-04 - val_loss: 9.0241e-04\n",
            "Epoch 71/100\n",
            "12/12 [==============================] - 3s 214ms/step - loss: 1.9269e-04 - val_loss: 0.0012\n",
            "Epoch 72/100\n",
            "12/12 [==============================] - 3s 217ms/step - loss: 2.3020e-04 - val_loss: 8.8604e-04\n",
            "Epoch 73/100\n",
            "12/12 [==============================] - 3s 214ms/step - loss: 1.6707e-04 - val_loss: 8.8623e-04\n",
            "Epoch 74/100\n",
            "12/12 [==============================] - 3s 219ms/step - loss: 1.7629e-04 - val_loss: 0.0014\n",
            "Epoch 75/100\n",
            "12/12 [==============================] - 3s 214ms/step - loss: 1.8737e-04 - val_loss: 0.0018\n",
            "Epoch 76/100\n",
            "12/12 [==============================] - 3s 222ms/step - loss: 2.0879e-04 - val_loss: 8.5384e-04\n",
            "Epoch 77/100\n",
            "12/12 [==============================] - 3s 217ms/step - loss: 1.7145e-04 - val_loss: 8.4459e-04\n",
            "Epoch 78/100\n",
            "12/12 [==============================] - 3s 213ms/step - loss: 1.5915e-04 - val_loss: 9.9741e-04\n",
            "Epoch 79/100\n",
            "12/12 [==============================] - 3s 218ms/step - loss: 1.5327e-04 - val_loss: 8.8024e-04\n",
            "Epoch 80/100\n",
            "12/12 [==============================] - 3s 213ms/step - loss: 1.6093e-04 - val_loss: 8.0924e-04\n",
            "Epoch 81/100\n",
            "12/12 [==============================] - 3s 213ms/step - loss: 1.5775e-04 - val_loss: 7.9773e-04\n",
            "Epoch 82/100\n",
            "12/12 [==============================] - 3s 213ms/step - loss: 1.5766e-04 - val_loss: 8.6952e-04\n",
            "Epoch 83/100\n",
            "12/12 [==============================] - 3s 210ms/step - loss: 1.5989e-04 - val_loss: 7.9767e-04\n",
            "Epoch 84/100\n",
            "12/12 [==============================] - 3s 215ms/step - loss: 1.5485e-04 - val_loss: 0.0014\n",
            "Epoch 85/100\n",
            "12/12 [==============================] - 3s 212ms/step - loss: 1.5606e-04 - val_loss: 8.2259e-04\n",
            "Epoch 86/100\n",
            "12/12 [==============================] - 3s 213ms/step - loss: 1.5858e-04 - val_loss: 8.2809e-04\n",
            "Epoch 87/100\n",
            "12/12 [==============================] - 3s 214ms/step - loss: 1.3866e-04 - val_loss: 8.6262e-04\n",
            "Epoch 88/100\n",
            "12/12 [==============================] - 3s 220ms/step - loss: 1.3990e-04 - val_loss: 8.5780e-04\n",
            "Epoch 89/100\n",
            "12/12 [==============================] - 3s 212ms/step - loss: 1.4971e-04 - val_loss: 7.8235e-04\n",
            "Epoch 90/100\n",
            "12/12 [==============================] - 3s 216ms/step - loss: 1.3257e-04 - val_loss: 7.3880e-04\n",
            "Epoch 91/100\n",
            "12/12 [==============================] - 3s 212ms/step - loss: 1.3645e-04 - val_loss: 7.3333e-04\n",
            "Epoch 92/100\n",
            "12/12 [==============================] - 3s 225ms/step - loss: 1.2944e-04 - val_loss: 0.0010\n",
            "Epoch 93/100\n",
            "12/12 [==============================] - 3s 216ms/step - loss: 1.6319e-04 - val_loss: 7.3765e-04\n",
            "Epoch 94/100\n",
            "12/12 [==============================] - 3s 219ms/step - loss: 1.3674e-04 - val_loss: 9.2916e-04\n",
            "Epoch 95/100\n",
            "12/12 [==============================] - 3s 216ms/step - loss: 1.5216e-04 - val_loss: 0.0011\n",
            "Epoch 96/100\n",
            "12/12 [==============================] - 3s 218ms/step - loss: 2.0800e-04 - val_loss: 0.0012\n",
            "Epoch 97/100\n",
            "12/12 [==============================] - 3s 218ms/step - loss: 1.7687e-04 - val_loss: 7.5143e-04\n",
            "Epoch 98/100\n",
            "12/12 [==============================] - 3s 217ms/step - loss: 1.6223e-04 - val_loss: 9.3293e-04\n",
            "Epoch 99/100\n",
            "12/12 [==============================] - 3s 225ms/step - loss: 1.2751e-04 - val_loss: 7.6836e-04\n",
            "Epoch 100/100\n",
            "12/12 [==============================] - 3s 218ms/step - loss: 1.3578e-04 - val_loss: 6.8894e-04\n"
          ]
        },
        {
          "output_type": "execute_result",
          "data": {
            "text/plain": [
              "<keras.callbacks.History at 0x7f707adaef10>"
            ]
          },
          "metadata": {},
          "execution_count": 26
        }
      ]
    },
    {
      "cell_type": "code",
      "source": [
        "#Making Prediction\n",
        "train_predict = model.predict(X_train)\n",
        "test_predict = model.predict(X_test)"
      ],
      "metadata": {
        "colab": {
          "base_uri": "https://localhost:8080/"
        },
        "id": "-cgytrjGV1xO",
        "outputId": "1541eb5f-db00-41ef-d70e-cb0fc81ee83c"
      },
      "execution_count": 32,
      "outputs": [
        {
          "output_type": "stream",
          "name": "stdout",
          "text": [
            "23/23 [==============================] - 1s 39ms/step\n",
            "11/11 [==============================] - 0s 42ms/step\n"
          ]
        }
      ]
    },
    {
      "cell_type": "code",
      "source": [
        "#Transforming beack to Original form\n",
        "train_predict = scaler.inverse_transform(train_predict)\n",
        "test_predict = scaler.inverse_transform(test_predict)"
      ],
      "metadata": {
        "id": "OED2CYI-XIT4"
      },
      "execution_count": 33,
      "outputs": []
    },
    {
      "cell_type": "code",
      "source": [
        "#Checking Accuracy\n",
        "math.sqrt(mean_squared_error(y_train, train_predict))"
      ],
      "metadata": {
        "colab": {
          "base_uri": "https://localhost:8080/"
        },
        "id": "c1Grmxm2XSU1",
        "outputId": "2b45a117-66f5-4a6a-a234-51b804139add"
      },
      "execution_count": 34,
      "outputs": [
        {
          "output_type": "execute_result",
          "data": {
            "text/plain": [
              "0.010850224954940205"
            ]
          },
          "metadata": {},
          "execution_count": 34
        }
      ]
    },
    {
      "cell_type": "code",
      "source": [
        "math.sqrt(mean_squared_error(ytest, test_predict))"
      ],
      "metadata": {
        "colab": {
          "base_uri": "https://localhost:8080/"
        },
        "id": "_7E8JaVAXh5j",
        "outputId": "9671ea19-8355-4cd9-9795-b4c4afbfed50"
      },
      "execution_count": 35,
      "outputs": [
        {
          "output_type": "execute_result",
          "data": {
            "text/plain": [
              "0.02624765700461233"
            ]
          },
          "metadata": {},
          "execution_count": 35
        }
      ]
    },
    {
      "cell_type": "code",
      "source": [
        "#Plotting in Graph\n",
        "look_back = 100\n",
        "trainPredictPlot = np.empty_like(df1)\n",
        "trainPredictPlot[ : , : ] = np.nan\n",
        "trainPredictPlot[look_back : len(train_predict) + look_back, : ] = train_predict\n",
        "# shift test predictions for plotting\n",
        "testPredictPlot = np.empty_like(df1)\n",
        "testPredictPlot[ : , : ] = np.nan\n",
        "testPredictPlot[len(train_predict) + (look_back * 2) + 1 : len(df1) - 1, : ] = test_predict\n",
        "# plot baseline and predictions\n",
        "plt.plot(scaler.inverse_transform(df1))\n",
        "plt.plot(trainPredictPlot)\n",
        "plt.plot(testPredictPlot)\n",
        "plt.show()"
      ],
      "metadata": {
        "colab": {
          "base_uri": "https://localhost:8080/",
          "height": 265
        },
        "id": "MwFdziYvXyuB",
        "outputId": "df66478c-821f-4649-d395-97a6d301b806"
      },
      "execution_count": 36,
      "outputs": [
        {
          "output_type": "display_data",
          "data": {
            "text/plain": [
              "<Figure size 432x288 with 1 Axes>"
            ],
            "image/png": "[encoded data removed]"
          },
          "metadata": {
            "needs_background": "light"
          }
        }
      ]
    },
    {
      "cell_type": "markdown",
      "source": [
        "In the above graph the Blue line is Actual Data, Orange line is Training Data Prediction and Green line is Test Data Prediction."
      ],
      "metadata": {
        "id": "MYo4PMwae9Gm"
      }
    },
    {
      "cell_type": "code",
      "source": [
        "len(test_data)"
      ],
      "metadata": {
        "colab": {
          "base_uri": "https://localhost:8080/"
        },
        "id": "PElgXGr-f_iN",
        "outputId": "549a4541-b1ec-42d9-a075-62a233dc75d9"
      },
      "execution_count": 46,
      "outputs": [
        {
          "output_type": "execute_result",
          "data": {
            "text/plain": [
              "441"
            ]
          },
          "metadata": {},
          "execution_count": 46
        }
      ]
    },
    {
      "cell_type": "markdown",
      "source": [
        "Since my calculations are based on previous 100 days, we will go back 100 days i.e. 441 - 100 = 341 for next predictions."
      ],
      "metadata": {
        "id": "zWAMt-ZrgDvV"
      }
    },
    {
      "cell_type": "code",
      "source": [
        "x_input = test_data[341 : ].reshape(1, -1)\n",
        "x_input.shape"
      ],
      "metadata": {
        "colab": {
          "base_uri": "https://localhost:8080/"
        },
        "id": "zQFQ8-MPYILX",
        "outputId": "29969e53-f43e-4f27-f26d-ca0b97ea27e8"
      },
      "execution_count": 37,
      "outputs": [
        {
          "output_type": "execute_result",
          "data": {
            "text/plain": [
              "(1, 100)"
            ]
          },
          "metadata": {},
          "execution_count": 37
        }
      ]
    },
    {
      "cell_type": "code",
      "source": [
        "temp_input = list(x_input)\n",
        "temp_input = temp_input[0].tolist()"
      ],
      "metadata": {
        "id": "1hyyOPTCYQhd"
      },
      "execution_count": 38,
      "outputs": []
    },
    {
      "cell_type": "code",
      "source": [
        "#Making Prediction for next 10 days\n",
        "lst_output = []\n",
        "n_steps = 100\n",
        "i = 0\n",
        "while(i < 30):  \n",
        "    if(len(temp_input) > 100):\n",
        "        #print(temp_input)\n",
        "        x_input = np.array(temp_input[1 : ])\n",
        "        #print(\"{} day input {}\".format(i, x_input))\n",
        "        x_input = x_input.reshape(1, -1)\n",
        "        x_input = x_input.reshape((1, n_steps, 1))\n",
        "        #print(x_input)\n",
        "        yhat = model.predict(x_input, verbose = 0)\n",
        "        #print(\"{} day output {}\".format(i, yhat))\n",
        "        temp_input.extend(yhat[0].tolist())\n",
        "        temp_input = temp_input[1 : ]\n",
        "        #print(temp_input)\n",
        "        lst_output.extend(yhat.tolist())\n",
        "        i = i + 1\n",
        "    else:\n",
        "        x_input = x_input.reshape((1, n_steps,1))\n",
        "        yhat = model.predict(x_input, verbose=0)\n",
        "        #print(yhat[0])\n",
        "        temp_input.extend(yhat[0].tolist())\n",
        "        #print(len(temp_input))\n",
        "        lst_output.extend(yhat.tolist())\n",
        "        i = i + 1"
      ],
      "metadata": {
        "id": "ilJENygqYWQE"
      },
      "execution_count": 40,
      "outputs": []
    },
    {
      "cell_type": "code",
      "source": [
        "day_new = np.arange(1, 101)\n",
        "day_pred = np.arange(101, 131)"
      ],
      "metadata": {
        "id": "lSFBK4iSZLcm"
      },
      "execution_count": 41,
      "outputs": []
    },
    {
      "cell_type": "code",
      "source": [
        "len(df1)"
      ],
      "metadata": {
        "colab": {
          "base_uri": "https://localhost:8080/"
        },
        "id": "gQds4FSyhHFm",
        "outputId": "6d6083f8-1b8e-414a-daee-c1b6262a1fa4"
      },
      "execution_count": 47,
      "outputs": [
        {
          "output_type": "execute_result",
          "data": {
            "text/plain": [
              "1258"
            ]
          },
          "metadata": {},
          "execution_count": 47
        }
      ]
    },
    {
      "cell_type": "code",
      "source": [
        "plt.plot(day_new,scaler.inverse_transform(df1[1158 : ]))\n",
        "plt.plot(day_pred,scaler.inverse_transform(lst_output))"
      ],
      "metadata": {
        "colab": {
          "base_uri": "https://localhost:8080/",
          "height": 282
        },
        "id": "w4bxsRE6ZS8H",
        "outputId": "6d4b6d1b-3eef-40db-d651-8af7745b7f65"
      },
      "execution_count": 42,
      "outputs": [
        {
          "output_type": "execute_result",
          "data": {
            "text/plain": [
              "[<matplotlib.lines.Line2D at 0x7f707ada2760>]"
            ]
          },
          "metadata": {},
          "execution_count": 42
        },
        {
          "output_type": "display_data",
          "data": {
            "text/plain": [
              "<Figure size 432x288 with 1 Axes>"
            ],
            "image/png": "[encoded data removed]"
          },
          "metadata": {
            "needs_background": "light"
          }
        }
      ]
    },
    {
      "cell_type": "code",
      "source": [
        "df2 = df1.tolist()\n",
        "df2.extend(lst_output)\n",
        "plt.plot(df2[1200 : ])"
      ],
      "metadata": {
        "colab": {
          "base_uri": "https://localhost:8080/",
          "height": 282
        },
        "id": "Gkad4CSzZXuI",
        "outputId": "4a2afa6e-a058-42db-a761-b39f1ca0a793"
      },
      "execution_count": 43,
      "outputs": [
        {
          "output_type": "execute_result",
          "data": {
            "text/plain": [
              "[<matplotlib.lines.Line2D at 0x7f7075fba220>]"
            ]
          },
          "metadata": {},
          "execution_count": 43
        },
        {
          "output_type": "display_data",
          "data": {
            "text/plain": [
              "<Figure size 432x288 with 1 Axes>"
            ],
            "image/png": "[encoded data removed]"
          },
          "metadata": {
            "needs_background": "light"
          }
        }
      ]
    },
    {
      "cell_type": "code",
      "source": [
        "df2 = scaler.inverse_transform(df2).tolist()"
      ],
      "metadata": {
        "id": "xSMm5X2HZd-V"
      },
      "execution_count": 44,
      "outputs": []
    },
    {
      "cell_type": "code",
      "source": [
        "plt.plot(df2)"
      ],
      "metadata": {
        "colab": {
          "base_uri": "https://localhost:8080/",
          "height": 282
        },
        "id": "6gwBz0tpZiq3",
        "outputId": "1fc9942d-68f6-4e16-aa8a-8974fb2781bd"
      },
      "execution_count": 45,
      "outputs": [
        {
          "output_type": "execute_result",
          "data": {
            "text/plain": [
              "[<matplotlib.lines.Line2D at 0x7f7075f3ddf0>]"
            ]
          },
          "metadata": {},
          "execution_count": 45
        },
        {
          "output_type": "display_data",
          "data": {
            "text/plain": [
              "<Figure size 432x288 with 1 Axes>"
            ],
            "image/png": "[encoded data removed]"
          },
          "metadata": {
            "needs_background": "light"
          }
        }
      ]
    }
  ]
}